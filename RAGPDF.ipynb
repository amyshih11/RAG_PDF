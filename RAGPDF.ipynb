{
  "nbformat": 4,
  "nbformat_minor": 0,
  "metadata": {
    "colab": {
      "provenance": []
    },
    "kernelspec": {
      "name": "python3",
      "display_name": "Python 3"
    },
    "language_info": {
      "name": "python"
    }
  },
  "cells": [
    {
      "cell_type": "code",
      "source": [
        "from google.colab import userdata\n",
        "OPENAI_API_KEY = userdata.get('OPENAI_API_KEY')\n",
        "PINECONE_API_KEY = userdata.get('PINECONE_API_KEY')"
      ],
      "metadata": {
        "id": "oBHqID4WMkrB"
      },
      "execution_count": null,
      "outputs": []
    },
    {
      "cell_type": "markdown",
      "source": [],
      "metadata": {
        "id": "GomN5saIVY7e"
      }
    },
    {
      "cell_type": "code",
      "source": [
        "from google.colab import drive\n",
        "drive.mount('/content/drive')"
      ],
      "metadata": {
        "colab": {
          "base_uri": "https://localhost:8080/"
        },
        "id": "eL5vEqNDY3mQ",
        "outputId": "48ea2842-89ee-44fb-e5fe-e97e6e54e0cf"
      },
      "execution_count": null,
      "outputs": [
        {
          "output_type": "stream",
          "name": "stdout",
          "text": [
            "Mounted at /content/drive\n"
          ]
        }
      ]
    },
    {
      "cell_type": "code",
      "source": [
        "!pip install PyMuPDF\n",
        "!pip install langchain_openai\n",
        "!pip install pinecone\n",
        "!pip install langchain_pinecone\n",
        "!pip install langchain_community"
      ],
      "metadata": {
        "id": "B1A0Bpa_TOgQ",
        "colab": {
          "base_uri": "https://localhost:8080/"
        },
        "outputId": "4ec38e9b-7f60-4432-8ef5-a0b0b7b2856f"
      },
      "execution_count": null,
      "outputs": [
        {
          "output_type": "stream",
          "name": "stdout",
          "text": [
            "Collecting PyMuPDF\n",
            "  Downloading PyMuPDF-1.24.14-cp39-abi3-manylinux2014_x86_64.manylinux_2_17_x86_64.whl.metadata (3.4 kB)\n",
            "Downloading PyMuPDF-1.24.14-cp39-abi3-manylinux2014_x86_64.manylinux_2_17_x86_64.whl (19.8 MB)\n",
            "\u001b[2K   \u001b[90m━━━━━━━━━━━━━━━━━━━━━━━━━━━━━━━━━━━━━━━━\u001b[0m \u001b[32m19.8/19.8 MB\u001b[0m \u001b[31m30.8 MB/s\u001b[0m eta \u001b[36m0:00:00\u001b[0m\n",
            "\u001b[?25hInstalling collected packages: PyMuPDF\n",
            "Successfully installed PyMuPDF-1.24.14\n",
            "Collecting langchain_openai\n",
            "  Downloading langchain_openai-0.2.9-py3-none-any.whl.metadata (2.6 kB)\n",
            "Requirement already satisfied: langchain-core<0.4.0,>=0.3.17 in /usr/local/lib/python3.10/dist-packages (from langchain_openai) (0.3.19)\n",
            "Requirement already satisfied: openai<2.0.0,>=1.54.0 in /usr/local/lib/python3.10/dist-packages (from langchain_openai) (1.54.4)\n",
            "Collecting tiktoken<1,>=0.7 (from langchain_openai)\n",
            "  Downloading tiktoken-0.8.0-cp310-cp310-manylinux_2_17_x86_64.manylinux2014_x86_64.whl.metadata (6.6 kB)\n",
            "Requirement already satisfied: PyYAML>=5.3 in /usr/local/lib/python3.10/dist-packages (from langchain-core<0.4.0,>=0.3.17->langchain_openai) (6.0.2)\n",
            "Requirement already satisfied: jsonpatch<2.0,>=1.33 in /usr/local/lib/python3.10/dist-packages (from langchain-core<0.4.0,>=0.3.17->langchain_openai) (1.33)\n",
            "Requirement already satisfied: langsmith<0.2.0,>=0.1.125 in /usr/local/lib/python3.10/dist-packages (from langchain-core<0.4.0,>=0.3.17->langchain_openai) (0.1.143)\n",
            "Requirement already satisfied: packaging<25,>=23.2 in /usr/local/lib/python3.10/dist-packages (from langchain-core<0.4.0,>=0.3.17->langchain_openai) (24.2)\n",
            "Requirement already satisfied: pydantic<3.0.0,>=2.5.2 in /usr/local/lib/python3.10/dist-packages (from langchain-core<0.4.0,>=0.3.17->langchain_openai) (2.9.2)\n",
            "Requirement already satisfied: tenacity!=8.4.0,<10.0.0,>=8.1.0 in /usr/local/lib/python3.10/dist-packages (from langchain-core<0.4.0,>=0.3.17->langchain_openai) (9.0.0)\n",
            "Requirement already satisfied: typing-extensions>=4.7 in /usr/local/lib/python3.10/dist-packages (from langchain-core<0.4.0,>=0.3.17->langchain_openai) (4.12.2)\n",
            "Requirement already satisfied: anyio<5,>=3.5.0 in /usr/local/lib/python3.10/dist-packages (from openai<2.0.0,>=1.54.0->langchain_openai) (3.7.1)\n",
            "Requirement already satisfied: distro<2,>=1.7.0 in /usr/local/lib/python3.10/dist-packages (from openai<2.0.0,>=1.54.0->langchain_openai) (1.9.0)\n",
            "Requirement already satisfied: httpx<1,>=0.23.0 in /usr/local/lib/python3.10/dist-packages (from openai<2.0.0,>=1.54.0->langchain_openai) (0.27.2)\n",
            "Requirement already satisfied: jiter<1,>=0.4.0 in /usr/local/lib/python3.10/dist-packages (from openai<2.0.0,>=1.54.0->langchain_openai) (0.7.1)\n",
            "Requirement already satisfied: sniffio in /usr/local/lib/python3.10/dist-packages (from openai<2.0.0,>=1.54.0->langchain_openai) (1.3.1)\n",
            "Requirement already satisfied: tqdm>4 in /usr/local/lib/python3.10/dist-packages (from openai<2.0.0,>=1.54.0->langchain_openai) (4.66.6)\n",
            "Requirement already satisfied: regex>=2022.1.18 in /usr/local/lib/python3.10/dist-packages (from tiktoken<1,>=0.7->langchain_openai) (2024.9.11)\n",
            "Requirement already satisfied: requests>=2.26.0 in /usr/local/lib/python3.10/dist-packages (from tiktoken<1,>=0.7->langchain_openai) (2.32.3)\n",
            "Requirement already satisfied: idna>=2.8 in /usr/local/lib/python3.10/dist-packages (from anyio<5,>=3.5.0->openai<2.0.0,>=1.54.0->langchain_openai) (3.10)\n",
            "Requirement already satisfied: exceptiongroup in /usr/local/lib/python3.10/dist-packages (from anyio<5,>=3.5.0->openai<2.0.0,>=1.54.0->langchain_openai) (1.2.2)\n",
            "Requirement already satisfied: certifi in /usr/local/lib/python3.10/dist-packages (from httpx<1,>=0.23.0->openai<2.0.0,>=1.54.0->langchain_openai) (2024.8.30)\n",
            "Requirement already satisfied: httpcore==1.* in /usr/local/lib/python3.10/dist-packages (from httpx<1,>=0.23.0->openai<2.0.0,>=1.54.0->langchain_openai) (1.0.7)\n",
            "Requirement already satisfied: h11<0.15,>=0.13 in /usr/local/lib/python3.10/dist-packages (from httpcore==1.*->httpx<1,>=0.23.0->openai<2.0.0,>=1.54.0->langchain_openai) (0.14.0)\n",
            "Requirement already satisfied: jsonpointer>=1.9 in /usr/local/lib/python3.10/dist-packages (from jsonpatch<2.0,>=1.33->langchain-core<0.4.0,>=0.3.17->langchain_openai) (3.0.0)\n",
            "Requirement already satisfied: orjson<4.0.0,>=3.9.14 in /usr/local/lib/python3.10/dist-packages (from langsmith<0.2.0,>=0.1.125->langchain-core<0.4.0,>=0.3.17->langchain_openai) (3.10.11)\n",
            "Requirement already satisfied: requests-toolbelt<2.0.0,>=1.0.0 in /usr/local/lib/python3.10/dist-packages (from langsmith<0.2.0,>=0.1.125->langchain-core<0.4.0,>=0.3.17->langchain_openai) (1.0.0)\n",
            "Requirement already satisfied: annotated-types>=0.6.0 in /usr/local/lib/python3.10/dist-packages (from pydantic<3.0.0,>=2.5.2->langchain-core<0.4.0,>=0.3.17->langchain_openai) (0.7.0)\n",
            "Requirement already satisfied: pydantic-core==2.23.4 in /usr/local/lib/python3.10/dist-packages (from pydantic<3.0.0,>=2.5.2->langchain-core<0.4.0,>=0.3.17->langchain_openai) (2.23.4)\n",
            "Requirement already satisfied: charset-normalizer<4,>=2 in /usr/local/lib/python3.10/dist-packages (from requests>=2.26.0->tiktoken<1,>=0.7->langchain_openai) (3.4.0)\n",
            "Requirement already satisfied: urllib3<3,>=1.21.1 in /usr/local/lib/python3.10/dist-packages (from requests>=2.26.0->tiktoken<1,>=0.7->langchain_openai) (2.2.3)\n",
            "Downloading langchain_openai-0.2.9-py3-none-any.whl (50 kB)\n",
            "\u001b[2K   \u001b[90m━━━━━━━━━━━━━━━━━━━━━━━━━━━━━━━━━━━━━━━━\u001b[0m \u001b[32m50.4/50.4 kB\u001b[0m \u001b[31m2.8 MB/s\u001b[0m eta \u001b[36m0:00:00\u001b[0m\n",
            "\u001b[?25hDownloading tiktoken-0.8.0-cp310-cp310-manylinux_2_17_x86_64.manylinux2014_x86_64.whl (1.2 MB)\n",
            "\u001b[2K   \u001b[90m━━━━━━━━━━━━━━━━━━━━━━━━━━━━━━━━━━━━━━━━\u001b[0m \u001b[32m1.2/1.2 MB\u001b[0m \u001b[31m25.4 MB/s\u001b[0m eta \u001b[36m0:00:00\u001b[0m\n",
            "\u001b[?25hInstalling collected packages: tiktoken, langchain_openai\n",
            "Successfully installed langchain_openai-0.2.9 tiktoken-0.8.0\n",
            "Collecting pinecone\n",
            "  Downloading pinecone-5.4.0-py3-none-any.whl.metadata (19 kB)\n",
            "Requirement already satisfied: certifi>=2019.11.17 in /usr/local/lib/python3.10/dist-packages (from pinecone) (2024.8.30)\n",
            "Collecting pinecone-plugin-inference<3.0.0,>=2.0.0 (from pinecone)\n",
            "  Downloading pinecone_plugin_inference-2.0.1-py3-none-any.whl.metadata (2.2 kB)\n",
            "Collecting pinecone-plugin-interface<0.0.8,>=0.0.7 (from pinecone)\n",
            "  Downloading pinecone_plugin_interface-0.0.7-py3-none-any.whl.metadata (1.2 kB)\n",
            "Requirement already satisfied: python-dateutil>=2.5.3 in /usr/local/lib/python3.10/dist-packages (from pinecone) (2.8.2)\n",
            "Requirement already satisfied: tqdm>=4.64.1 in /usr/local/lib/python3.10/dist-packages (from pinecone) (4.66.6)\n",
            "Requirement already satisfied: typing-extensions>=3.7.4 in /usr/local/lib/python3.10/dist-packages (from pinecone) (4.12.2)\n",
            "Requirement already satisfied: urllib3>=1.26.0 in /usr/local/lib/python3.10/dist-packages (from pinecone) (2.2.3)\n",
            "Requirement already satisfied: six>=1.5 in /usr/local/lib/python3.10/dist-packages (from python-dateutil>=2.5.3->pinecone) (1.16.0)\n",
            "Downloading pinecone-5.4.0-py3-none-any.whl (427 kB)\n",
            "\u001b[2K   \u001b[90m━━━━━━━━━━━━━━━━━━━━━━━━━━━━━━━━━━━━━━━━\u001b[0m \u001b[32m427.3/427.3 kB\u001b[0m \u001b[31m11.6 MB/s\u001b[0m eta \u001b[36m0:00:00\u001b[0m\n",
            "\u001b[?25hDownloading pinecone_plugin_inference-2.0.1-py3-none-any.whl (84 kB)\n",
            "\u001b[2K   \u001b[90m━━━━━━━━━━━━━━━━━━━━━━━━━━━━━━━━━━━━━━━━\u001b[0m \u001b[32m84.4/84.4 kB\u001b[0m \u001b[31m5.6 MB/s\u001b[0m eta \u001b[36m0:00:00\u001b[0m\n",
            "\u001b[?25hDownloading pinecone_plugin_interface-0.0.7-py3-none-any.whl (6.2 kB)\n",
            "Installing collected packages: pinecone-plugin-interface, pinecone-plugin-inference, pinecone\n",
            "Successfully installed pinecone-5.4.0 pinecone-plugin-inference-2.0.1 pinecone-plugin-interface-0.0.7\n",
            "Collecting langchain_pinecone\n",
            "  Downloading langchain_pinecone-0.2.0-py3-none-any.whl.metadata (1.7 kB)\n",
            "Collecting aiohttp<3.10,>=3.9.5 (from langchain_pinecone)\n",
            "  Downloading aiohttp-3.9.5-cp310-cp310-manylinux_2_17_x86_64.manylinux2014_x86_64.whl.metadata (7.5 kB)\n",
            "Requirement already satisfied: langchain-core<0.4,>=0.3 in /usr/local/lib/python3.10/dist-packages (from langchain_pinecone) (0.3.19)\n",
            "Requirement already satisfied: numpy<2,>=1 in /usr/local/lib/python3.10/dist-packages (from langchain_pinecone) (1.26.4)\n",
            "Collecting pinecone-client<6.0.0,>=5.0.0 (from langchain_pinecone)\n",
            "  Downloading pinecone_client-5.0.1-py3-none-any.whl.metadata (19 kB)\n",
            "Requirement already satisfied: aiosignal>=1.1.2 in /usr/local/lib/python3.10/dist-packages (from aiohttp<3.10,>=3.9.5->langchain_pinecone) (1.3.1)\n",
            "Requirement already satisfied: attrs>=17.3.0 in /usr/local/lib/python3.10/dist-packages (from aiohttp<3.10,>=3.9.5->langchain_pinecone) (24.2.0)\n",
            "Requirement already satisfied: frozenlist>=1.1.1 in /usr/local/lib/python3.10/dist-packages (from aiohttp<3.10,>=3.9.5->langchain_pinecone) (1.5.0)\n",
            "Requirement already satisfied: multidict<7.0,>=4.5 in /usr/local/lib/python3.10/dist-packages (from aiohttp<3.10,>=3.9.5->langchain_pinecone) (6.1.0)\n",
            "Requirement already satisfied: yarl<2.0,>=1.0 in /usr/local/lib/python3.10/dist-packages (from aiohttp<3.10,>=3.9.5->langchain_pinecone) (1.17.2)\n",
            "Requirement already satisfied: async-timeout<5.0,>=4.0 in /usr/local/lib/python3.10/dist-packages (from aiohttp<3.10,>=3.9.5->langchain_pinecone) (4.0.3)\n",
            "Requirement already satisfied: PyYAML>=5.3 in /usr/local/lib/python3.10/dist-packages (from langchain-core<0.4,>=0.3->langchain_pinecone) (6.0.2)\n",
            "Requirement already satisfied: jsonpatch<2.0,>=1.33 in /usr/local/lib/python3.10/dist-packages (from langchain-core<0.4,>=0.3->langchain_pinecone) (1.33)\n",
            "Requirement already satisfied: langsmith<0.2.0,>=0.1.125 in /usr/local/lib/python3.10/dist-packages (from langchain-core<0.4,>=0.3->langchain_pinecone) (0.1.143)\n",
            "Requirement already satisfied: packaging<25,>=23.2 in /usr/local/lib/python3.10/dist-packages (from langchain-core<0.4,>=0.3->langchain_pinecone) (24.2)\n",
            "Requirement already satisfied: pydantic<3.0.0,>=2.5.2 in /usr/local/lib/python3.10/dist-packages (from langchain-core<0.4,>=0.3->langchain_pinecone) (2.9.2)\n",
            "Requirement already satisfied: tenacity!=8.4.0,<10.0.0,>=8.1.0 in /usr/local/lib/python3.10/dist-packages (from langchain-core<0.4,>=0.3->langchain_pinecone) (9.0.0)\n",
            "Requirement already satisfied: typing-extensions>=4.7 in /usr/local/lib/python3.10/dist-packages (from langchain-core<0.4,>=0.3->langchain_pinecone) (4.12.2)\n",
            "Requirement already satisfied: certifi>=2019.11.17 in /usr/local/lib/python3.10/dist-packages (from pinecone-client<6.0.0,>=5.0.0->langchain_pinecone) (2024.8.30)\n",
            "Collecting pinecone-plugin-inference<2.0.0,>=1.0.3 (from pinecone-client<6.0.0,>=5.0.0->langchain_pinecone)\n",
            "  Downloading pinecone_plugin_inference-1.1.0-py3-none-any.whl.metadata (2.2 kB)\n",
            "Requirement already satisfied: pinecone-plugin-interface<0.0.8,>=0.0.7 in /usr/local/lib/python3.10/dist-packages (from pinecone-client<6.0.0,>=5.0.0->langchain_pinecone) (0.0.7)\n",
            "Requirement already satisfied: tqdm>=4.64.1 in /usr/local/lib/python3.10/dist-packages (from pinecone-client<6.0.0,>=5.0.0->langchain_pinecone) (4.66.6)\n",
            "Requirement already satisfied: urllib3>=1.26.0 in /usr/local/lib/python3.10/dist-packages (from pinecone-client<6.0.0,>=5.0.0->langchain_pinecone) (2.2.3)\n",
            "Requirement already satisfied: jsonpointer>=1.9 in /usr/local/lib/python3.10/dist-packages (from jsonpatch<2.0,>=1.33->langchain-core<0.4,>=0.3->langchain_pinecone) (3.0.0)\n",
            "Requirement already satisfied: httpx<1,>=0.23.0 in /usr/local/lib/python3.10/dist-packages (from langsmith<0.2.0,>=0.1.125->langchain-core<0.4,>=0.3->langchain_pinecone) (0.27.2)\n",
            "Requirement already satisfied: orjson<4.0.0,>=3.9.14 in /usr/local/lib/python3.10/dist-packages (from langsmith<0.2.0,>=0.1.125->langchain-core<0.4,>=0.3->langchain_pinecone) (3.10.11)\n",
            "Requirement already satisfied: requests<3,>=2 in /usr/local/lib/python3.10/dist-packages (from langsmith<0.2.0,>=0.1.125->langchain-core<0.4,>=0.3->langchain_pinecone) (2.32.3)\n",
            "Requirement already satisfied: requests-toolbelt<2.0.0,>=1.0.0 in /usr/local/lib/python3.10/dist-packages (from langsmith<0.2.0,>=0.1.125->langchain-core<0.4,>=0.3->langchain_pinecone) (1.0.0)\n",
            "Requirement already satisfied: annotated-types>=0.6.0 in /usr/local/lib/python3.10/dist-packages (from pydantic<3.0.0,>=2.5.2->langchain-core<0.4,>=0.3->langchain_pinecone) (0.7.0)\n",
            "Requirement already satisfied: pydantic-core==2.23.4 in /usr/local/lib/python3.10/dist-packages (from pydantic<3.0.0,>=2.5.2->langchain-core<0.4,>=0.3->langchain_pinecone) (2.23.4)\n",
            "Requirement already satisfied: idna>=2.0 in /usr/local/lib/python3.10/dist-packages (from yarl<2.0,>=1.0->aiohttp<3.10,>=3.9.5->langchain_pinecone) (3.10)\n",
            "Requirement already satisfied: propcache>=0.2.0 in /usr/local/lib/python3.10/dist-packages (from yarl<2.0,>=1.0->aiohttp<3.10,>=3.9.5->langchain_pinecone) (0.2.0)\n",
            "Requirement already satisfied: anyio in /usr/local/lib/python3.10/dist-packages (from httpx<1,>=0.23.0->langsmith<0.2.0,>=0.1.125->langchain-core<0.4,>=0.3->langchain_pinecone) (3.7.1)\n",
            "Requirement already satisfied: httpcore==1.* in /usr/local/lib/python3.10/dist-packages (from httpx<1,>=0.23.0->langsmith<0.2.0,>=0.1.125->langchain-core<0.4,>=0.3->langchain_pinecone) (1.0.7)\n",
            "Requirement already satisfied: sniffio in /usr/local/lib/python3.10/dist-packages (from httpx<1,>=0.23.0->langsmith<0.2.0,>=0.1.125->langchain-core<0.4,>=0.3->langchain_pinecone) (1.3.1)\n",
            "Requirement already satisfied: h11<0.15,>=0.13 in /usr/local/lib/python3.10/dist-packages (from httpcore==1.*->httpx<1,>=0.23.0->langsmith<0.2.0,>=0.1.125->langchain-core<0.4,>=0.3->langchain_pinecone) (0.14.0)\n",
            "Requirement already satisfied: charset-normalizer<4,>=2 in /usr/local/lib/python3.10/dist-packages (from requests<3,>=2->langsmith<0.2.0,>=0.1.125->langchain-core<0.4,>=0.3->langchain_pinecone) (3.4.0)\n",
            "Requirement already satisfied: exceptiongroup in /usr/local/lib/python3.10/dist-packages (from anyio->httpx<1,>=0.23.0->langsmith<0.2.0,>=0.1.125->langchain-core<0.4,>=0.3->langchain_pinecone) (1.2.2)\n",
            "Downloading langchain_pinecone-0.2.0-py3-none-any.whl (11 kB)\n",
            "Downloading aiohttp-3.9.5-cp310-cp310-manylinux_2_17_x86_64.manylinux2014_x86_64.whl (1.2 MB)\n",
            "\u001b[2K   \u001b[90m━━━━━━━━━━━━━━━━━━━━━━━━━━━━━━━━━━━━━━━━\u001b[0m \u001b[32m1.2/1.2 MB\u001b[0m \u001b[31m20.5 MB/s\u001b[0m eta \u001b[36m0:00:00\u001b[0m\n",
            "\u001b[?25hDownloading pinecone_client-5.0.1-py3-none-any.whl (244 kB)\n",
            "\u001b[2K   \u001b[90m━━━━━━━━━━━━━━━━━━━━━━━━━━━━━━━━━━━━━━━━\u001b[0m \u001b[32m244.8/244.8 kB\u001b[0m \u001b[31m13.3 MB/s\u001b[0m eta \u001b[36m0:00:00\u001b[0m\n",
            "\u001b[?25hDownloading pinecone_plugin_inference-1.1.0-py3-none-any.whl (85 kB)\n",
            "\u001b[2K   \u001b[90m━━━━━━━━━━━━━━━━━━━━━━━━━━━━━━━━━━━━━━━━\u001b[0m \u001b[32m85.4/85.4 kB\u001b[0m \u001b[31m4.7 MB/s\u001b[0m eta \u001b[36m0:00:00\u001b[0m\n",
            "\u001b[?25hInstalling collected packages: pinecone-plugin-inference, pinecone-client, aiohttp, langchain_pinecone\n",
            "  Attempting uninstall: pinecone-plugin-inference\n",
            "    Found existing installation: pinecone-plugin-inference 2.0.1\n",
            "    Uninstalling pinecone-plugin-inference-2.0.1:\n",
            "      Successfully uninstalled pinecone-plugin-inference-2.0.1\n",
            "  Attempting uninstall: aiohttp\n",
            "    Found existing installation: aiohttp 3.11.2\n",
            "    Uninstalling aiohttp-3.11.2:\n",
            "      Successfully uninstalled aiohttp-3.11.2\n",
            "\u001b[31mERROR: pip's dependency resolver does not currently take into account all the packages that are installed. This behaviour is the source of the following dependency conflicts.\n",
            "pinecone 5.4.0 requires pinecone-plugin-inference<3.0.0,>=2.0.0, but you have pinecone-plugin-inference 1.1.0 which is incompatible.\u001b[0m\u001b[31m\n",
            "\u001b[0mSuccessfully installed aiohttp-3.9.5 langchain_pinecone-0.2.0 pinecone-client-5.0.1 pinecone-plugin-inference-1.1.0\n",
            "Collecting langchain_community\n",
            "  Downloading langchain_community-0.3.7-py3-none-any.whl.metadata (2.9 kB)\n",
            "Requirement already satisfied: PyYAML>=5.3 in /usr/local/lib/python3.10/dist-packages (from langchain_community) (6.0.2)\n",
            "Collecting SQLAlchemy<2.0.36,>=1.4 (from langchain_community)\n",
            "  Downloading SQLAlchemy-2.0.35-cp310-cp310-manylinux_2_17_x86_64.manylinux2014_x86_64.whl.metadata (9.6 kB)\n",
            "Requirement already satisfied: aiohttp<4.0.0,>=3.8.3 in /usr/local/lib/python3.10/dist-packages (from langchain_community) (3.9.5)\n",
            "Collecting dataclasses-json<0.7,>=0.5.7 (from langchain_community)\n",
            "  Downloading dataclasses_json-0.6.7-py3-none-any.whl.metadata (25 kB)\n",
            "Collecting httpx-sse<0.5.0,>=0.4.0 (from langchain_community)\n",
            "  Downloading httpx_sse-0.4.0-py3-none-any.whl.metadata (9.0 kB)\n",
            "Requirement already satisfied: langchain<0.4.0,>=0.3.7 in /usr/local/lib/python3.10/dist-packages (from langchain_community) (0.3.7)\n",
            "Requirement already satisfied: langchain-core<0.4.0,>=0.3.17 in /usr/local/lib/python3.10/dist-packages (from langchain_community) (0.3.19)\n",
            "Requirement already satisfied: langsmith<0.2.0,>=0.1.125 in /usr/local/lib/python3.10/dist-packages (from langchain_community) (0.1.143)\n",
            "Requirement already satisfied: numpy<2,>=1 in /usr/local/lib/python3.10/dist-packages (from langchain_community) (1.26.4)\n",
            "Collecting pydantic-settings<3.0.0,>=2.4.0 (from langchain_community)\n",
            "  Downloading pydantic_settings-2.6.1-py3-none-any.whl.metadata (3.5 kB)\n",
            "Requirement already satisfied: requests<3,>=2 in /usr/local/lib/python3.10/dist-packages (from langchain_community) (2.32.3)\n",
            "Requirement already satisfied: tenacity!=8.4.0,<10,>=8.1.0 in /usr/local/lib/python3.10/dist-packages (from langchain_community) (9.0.0)\n",
            "Requirement already satisfied: aiosignal>=1.1.2 in /usr/local/lib/python3.10/dist-packages (from aiohttp<4.0.0,>=3.8.3->langchain_community) (1.3.1)\n",
            "Requirement already satisfied: attrs>=17.3.0 in /usr/local/lib/python3.10/dist-packages (from aiohttp<4.0.0,>=3.8.3->langchain_community) (24.2.0)\n",
            "Requirement already satisfied: frozenlist>=1.1.1 in /usr/local/lib/python3.10/dist-packages (from aiohttp<4.0.0,>=3.8.3->langchain_community) (1.5.0)\n",
            "Requirement already satisfied: multidict<7.0,>=4.5 in /usr/local/lib/python3.10/dist-packages (from aiohttp<4.0.0,>=3.8.3->langchain_community) (6.1.0)\n",
            "Requirement already satisfied: yarl<2.0,>=1.0 in /usr/local/lib/python3.10/dist-packages (from aiohttp<4.0.0,>=3.8.3->langchain_community) (1.17.2)\n",
            "Requirement already satisfied: async-timeout<5.0,>=4.0 in /usr/local/lib/python3.10/dist-packages (from aiohttp<4.0.0,>=3.8.3->langchain_community) (4.0.3)\n",
            "Collecting marshmallow<4.0.0,>=3.18.0 (from dataclasses-json<0.7,>=0.5.7->langchain_community)\n",
            "  Downloading marshmallow-3.23.1-py3-none-any.whl.metadata (7.5 kB)\n",
            "Collecting typing-inspect<1,>=0.4.0 (from dataclasses-json<0.7,>=0.5.7->langchain_community)\n",
            "  Downloading typing_inspect-0.9.0-py3-none-any.whl.metadata (1.5 kB)\n",
            "Requirement already satisfied: langchain-text-splitters<0.4.0,>=0.3.0 in /usr/local/lib/python3.10/dist-packages (from langchain<0.4.0,>=0.3.7->langchain_community) (0.3.2)\n",
            "Requirement already satisfied: pydantic<3.0.0,>=2.7.4 in /usr/local/lib/python3.10/dist-packages (from langchain<0.4.0,>=0.3.7->langchain_community) (2.9.2)\n",
            "Requirement already satisfied: jsonpatch<2.0,>=1.33 in /usr/local/lib/python3.10/dist-packages (from langchain-core<0.4.0,>=0.3.17->langchain_community) (1.33)\n",
            "Requirement already satisfied: packaging<25,>=23.2 in /usr/local/lib/python3.10/dist-packages (from langchain-core<0.4.0,>=0.3.17->langchain_community) (24.2)\n",
            "Requirement already satisfied: typing-extensions>=4.7 in /usr/local/lib/python3.10/dist-packages (from langchain-core<0.4.0,>=0.3.17->langchain_community) (4.12.2)\n",
            "Requirement already satisfied: httpx<1,>=0.23.0 in /usr/local/lib/python3.10/dist-packages (from langsmith<0.2.0,>=0.1.125->langchain_community) (0.27.2)\n",
            "Requirement already satisfied: orjson<4.0.0,>=3.9.14 in /usr/local/lib/python3.10/dist-packages (from langsmith<0.2.0,>=0.1.125->langchain_community) (3.10.11)\n",
            "Requirement already satisfied: requests-toolbelt<2.0.0,>=1.0.0 in /usr/local/lib/python3.10/dist-packages (from langsmith<0.2.0,>=0.1.125->langchain_community) (1.0.0)\n",
            "Collecting python-dotenv>=0.21.0 (from pydantic-settings<3.0.0,>=2.4.0->langchain_community)\n",
            "  Downloading python_dotenv-1.0.1-py3-none-any.whl.metadata (23 kB)\n",
            "Requirement already satisfied: charset-normalizer<4,>=2 in /usr/local/lib/python3.10/dist-packages (from requests<3,>=2->langchain_community) (3.4.0)\n",
            "Requirement already satisfied: idna<4,>=2.5 in /usr/local/lib/python3.10/dist-packages (from requests<3,>=2->langchain_community) (3.10)\n",
            "Requirement already satisfied: urllib3<3,>=1.21.1 in /usr/local/lib/python3.10/dist-packages (from requests<3,>=2->langchain_community) (2.2.3)\n",
            "Requirement already satisfied: certifi>=2017.4.17 in /usr/local/lib/python3.10/dist-packages (from requests<3,>=2->langchain_community) (2024.8.30)\n",
            "Requirement already satisfied: greenlet!=0.4.17 in /usr/local/lib/python3.10/dist-packages (from SQLAlchemy<2.0.36,>=1.4->langchain_community) (3.1.1)\n",
            "Requirement already satisfied: anyio in /usr/local/lib/python3.10/dist-packages (from httpx<1,>=0.23.0->langsmith<0.2.0,>=0.1.125->langchain_community) (3.7.1)\n",
            "Requirement already satisfied: httpcore==1.* in /usr/local/lib/python3.10/dist-packages (from httpx<1,>=0.23.0->langsmith<0.2.0,>=0.1.125->langchain_community) (1.0.7)\n",
            "Requirement already satisfied: sniffio in /usr/local/lib/python3.10/dist-packages (from httpx<1,>=0.23.0->langsmith<0.2.0,>=0.1.125->langchain_community) (1.3.1)\n",
            "Requirement already satisfied: h11<0.15,>=0.13 in /usr/local/lib/python3.10/dist-packages (from httpcore==1.*->httpx<1,>=0.23.0->langsmith<0.2.0,>=0.1.125->langchain_community) (0.14.0)\n",
            "Requirement already satisfied: jsonpointer>=1.9 in /usr/local/lib/python3.10/dist-packages (from jsonpatch<2.0,>=1.33->langchain-core<0.4.0,>=0.3.17->langchain_community) (3.0.0)\n",
            "Requirement already satisfied: annotated-types>=0.6.0 in /usr/local/lib/python3.10/dist-packages (from pydantic<3.0.0,>=2.7.4->langchain<0.4.0,>=0.3.7->langchain_community) (0.7.0)\n",
            "Requirement already satisfied: pydantic-core==2.23.4 in /usr/local/lib/python3.10/dist-packages (from pydantic<3.0.0,>=2.7.4->langchain<0.4.0,>=0.3.7->langchain_community) (2.23.4)\n",
            "Collecting mypy-extensions>=0.3.0 (from typing-inspect<1,>=0.4.0->dataclasses-json<0.7,>=0.5.7->langchain_community)\n",
            "  Downloading mypy_extensions-1.0.0-py3-none-any.whl.metadata (1.1 kB)\n",
            "Requirement already satisfied: propcache>=0.2.0 in /usr/local/lib/python3.10/dist-packages (from yarl<2.0,>=1.0->aiohttp<4.0.0,>=3.8.3->langchain_community) (0.2.0)\n",
            "Requirement already satisfied: exceptiongroup in /usr/local/lib/python3.10/dist-packages (from anyio->httpx<1,>=0.23.0->langsmith<0.2.0,>=0.1.125->langchain_community) (1.2.2)\n",
            "Downloading langchain_community-0.3.7-py3-none-any.whl (2.4 MB)\n",
            "\u001b[2K   \u001b[90m━━━━━━━━━━━━━━━━━━━━━━━━━━━━━━━━━━━━━━━━\u001b[0m \u001b[32m2.4/2.4 MB\u001b[0m \u001b[31m36.9 MB/s\u001b[0m eta \u001b[36m0:00:00\u001b[0m\n",
            "\u001b[?25hDownloading dataclasses_json-0.6.7-py3-none-any.whl (28 kB)\n",
            "Downloading httpx_sse-0.4.0-py3-none-any.whl (7.8 kB)\n",
            "Downloading pydantic_settings-2.6.1-py3-none-any.whl (28 kB)\n",
            "Downloading SQLAlchemy-2.0.35-cp310-cp310-manylinux_2_17_x86_64.manylinux2014_x86_64.whl (3.1 MB)\n",
            "\u001b[2K   \u001b[90m━━━━━━━━━━━━━━━━━━━━━━━━━━━━━━━━━━━━━━━━\u001b[0m \u001b[32m3.1/3.1 MB\u001b[0m \u001b[31m45.7 MB/s\u001b[0m eta \u001b[36m0:00:00\u001b[0m\n",
            "\u001b[?25hDownloading marshmallow-3.23.1-py3-none-any.whl (49 kB)\n",
            "\u001b[2K   \u001b[90m━━━━━━━━━━━━━━━━━━━━━━━━━━━━━━━━━━━━━━━━\u001b[0m \u001b[32m49.5/49.5 kB\u001b[0m \u001b[31m3.4 MB/s\u001b[0m eta \u001b[36m0:00:00\u001b[0m\n",
            "\u001b[?25hDownloading python_dotenv-1.0.1-py3-none-any.whl (19 kB)\n",
            "Downloading typing_inspect-0.9.0-py3-none-any.whl (8.8 kB)\n",
            "Downloading mypy_extensions-1.0.0-py3-none-any.whl (4.7 kB)\n",
            "Installing collected packages: SQLAlchemy, python-dotenv, mypy-extensions, marshmallow, httpx-sse, typing-inspect, pydantic-settings, dataclasses-json, langchain_community\n",
            "  Attempting uninstall: SQLAlchemy\n",
            "    Found existing installation: SQLAlchemy 2.0.36\n",
            "    Uninstalling SQLAlchemy-2.0.36:\n",
            "      Successfully uninstalled SQLAlchemy-2.0.36\n",
            "Successfully installed SQLAlchemy-2.0.35 dataclasses-json-0.6.7 httpx-sse-0.4.0 langchain_community-0.3.7 marshmallow-3.23.1 mypy-extensions-1.0.0 pydantic-settings-2.6.1 python-dotenv-1.0.1 typing-inspect-0.9.0\n"
          ]
        }
      ]
    },
    {
      "cell_type": "code",
      "source": [
        "#讀取檔案\n",
        "from pprint import pprint\n",
        "from langchain_community.document_loaders import PyMuPDFLoader\n",
        "from langchain.text_splitter import RecursiveCharacterTextSplitter\n",
        "\n",
        "loader = PyMuPDFLoader(\"/content/drive/MyDrive/rag_pdf/FD.pdf\")\n",
        "documents = loader.load_and_split(\n",
        "    text_splitter=RecursiveCharacterTextSplitter(\n",
        "        chunk_size=300,\n",
        "        chunk_overlap=50\n",
        "    )\n",
        ")"
      ],
      "metadata": {
        "id": "6wG6W99jTChw"
      },
      "execution_count": null,
      "outputs": []
    },
    {
      "cell_type": "code",
      "source": [
        "#寫入向量資料庫\n",
        "from langchain_community.document_loaders import PyMuPDFLoader\n",
        "from langchain_openai.embeddings import OpenAIEmbeddings\n",
        "from langchain_pinecone import PineconeVectorStore\n",
        "from pinecone import Pinecone\n",
        "import pinecone\n",
        "embedding = OpenAIEmbeddings(\n",
        "    openai_api_key=OPENAI_API_KEY\n",
        ")\n",
        "\n",
        "vector_store = PineconeVectorStore(\n",
        "    index=Pinecone(api_key=PINECONE_API_KEY).Index(\"rag\"),\n",
        "    embedding=embedding\n",
        ")\n",
        "vector_store.add_documents(loader.load())"
      ],
      "metadata": {
        "id": "eM6A2gWaTHHe",
        "colab": {
          "base_uri": "https://localhost:8080/"
        },
        "outputId": "9cff313c-dd1c-4edc-f413-e58202fca7c2"
      },
      "execution_count": null,
      "outputs": [
        {
          "output_type": "execute_result",
          "data": {
            "text/plain": [
              "['97539c9d-601d-4ea9-becb-77c3d944e8bf',\n",
              " '6b6ef3ec-0b6d-4b63-b4ed-c69475b88b56',\n",
              " 'a5e8d6f8-c758-4730-8b36-aae76e263903',\n",
              " '5f56cbc2-8e87-4962-b65d-75aaf9d36c41',\n",
              " '190d2bbf-af97-4e8f-bae8-7124733d7e7c',\n",
              " 'ecf94fe2-7c55-4578-9eef-d49086896518',\n",
              " 'dbb1a32b-06ae-4ccc-814a-88a50e2e8215',\n",
              " 'a19b2de5-788c-437c-9b09-cdabc7895e43',\n",
              " '3257176c-eb1b-47b6-9d53-f54741535ec3',\n",
              " '3f8d2a90-9038-4697-bd62-33d1edc61ceb',\n",
              " 'eb35b86d-c81b-4c36-a155-1081abaab458',\n",
              " '8488fb75-bca8-4f00-988c-18d5b9917b7f',\n",
              " 'e3d54466-dce1-496e-95e9-9525c795e462',\n",
              " '13342335-f562-4ca4-9b73-72dd4b94de17',\n",
              " '3346c9ab-6c37-43c6-939b-0299823381b1',\n",
              " '6a4d2657-fcb7-4f73-8f66-8586615db7b6',\n",
              " '944d8388-f3e6-4f1b-b166-15a97bb1824c',\n",
              " 'd69e135b-e41a-4542-a785-bd807cbc2f44',\n",
              " 'ee7c8d58-9e45-4ae2-b162-b08927922368',\n",
              " '2d934f21-efbb-44a0-a6ba-7883bdea3928',\n",
              " 'fbb71da8-3b0e-4b18-aa57-1c440438a682',\n",
              " '2b50cae6-9120-468c-b26e-5f1bc8a07c3f',\n",
              " 'c2270513-f344-4fcb-a7cb-1f73adf94739',\n",
              " 'd0b1ef8f-6a0f-415c-a3b7-c905395a0f34',\n",
              " '3ac8feb4-f116-4b5a-b833-fda13da5fc90',\n",
              " '12101fe4-636a-4564-8ca1-23c3771e1704',\n",
              " 'b3e47f02-b611-484c-9845-f338acf70b78',\n",
              " 'f422b8b6-1a05-4a75-901a-3a024da4c1b2',\n",
              " 'cfdc5d0b-d80d-44ce-92f3-cdf1cae6910e',\n",
              " '7b57ae80-a417-4b49-8f55-75739433d0d0',\n",
              " '37ff9122-cc30-44f7-9263-ed50955b88fd',\n",
              " 'd48ceac1-ae47-41ca-a230-d3f0be3d5e5d',\n",
              " '7878d062-9448-4ffe-902b-b227625d1feb',\n",
              " 'e54455ef-beb6-4d8e-b492-9574510234c3',\n",
              " '8c00596f-e89a-4027-8bb8-e14cb03371af',\n",
              " '249a6c2c-f63d-4d3e-a68e-fa141f6d0cc1',\n",
              " '124774e7-8563-4958-805f-ad1ae589ca71',\n",
              " '2340435c-1a22-4c5f-bf21-3a772f54dff9',\n",
              " 'd4152557-5dad-4075-8c33-189d483932b2',\n",
              " '23c81bbc-352d-4064-a70b-3a4080c8a9e0',\n",
              " '925ce0d7-cf49-4d1a-ad0a-41a0ef67a395',\n",
              " 'f2f395cd-314f-48bd-bdbd-b4a9617c3b41']"
            ]
          },
          "metadata": {},
          "execution_count": 6
        }
      ]
    },
    {
      "cell_type": "code",
      "source": [
        "from langchain_core.prompts import ChatPromptTemplate\n",
        "from langchain_openai import ChatOpenAI\n",
        "from langchain.retrievers.multi_query import MultiQueryRetriever\n",
        "from langchain.memory import ConversationSummaryBufferMemory\n",
        "from langchain_core.output_parsers import BaseOutputParser\n",
        "from typing import List\n",
        "import logging\n",
        "from langchain_core.prompts import PromptTemplate\n",
        "\n",
        "# 定義 LineListOutputParser 來解析多行文本\n",
        "class LineListOutputParser(BaseOutputParser[List[str]]):\n",
        "    \"\"\"Output parser for a list of lines.\"\"\"\n",
        "\n",
        "    def parse(self, text: str) -> List[str]:\n",
        "        lines = text.strip().split(\"\\n\")\n",
        "        return list(filter(None, lines))  # Remove empty lines\n",
        "\n",
        "# 設置日誌級別，顯示生成的查詢\n",
        "logging.basicConfig()\n",
        "logging.getLogger(\"langchain.retrievers.multi_query\").setLevel(logging.INFO)\n",
        "# 使用 ChatOpenAI 作為 LLM 來生成查詢\n",
        "llm = ChatOpenAI(\n",
        "    api_key=OPENAI_API_KEY,\n",
        "    model_name=\"gpt-4o\"\n",
        ")\n",
        "\n",
        "# 生成自定義 PromptTemplate\n",
        "CUSTOM_QUERY_PROMPT = PromptTemplate(\n",
        "    input_variables=[\"question\"],\n",
        "    template=\"\"\"你是一個 AI 語言模型助手。你的任務是根據用戶輸入的問題生成三個不同版本的查詢，以繁體中文進行檢索。請將這些查詢分行顯示。\n",
        "    原始問題: {question}\"\"\"\n",
        ")\n",
        "# 建立 MultiQueryRetriever，並將 Pinecone 索引作為檢索器\n",
        "llm_chain = CUSTOM_QUERY_PROMPT | llm | LineListOutputParser()\n",
        "retriever_from_llm = MultiQueryRetriever(\n",
        "    retriever=vector_store.as_retriever(),\n",
        "    llm_chain=llm_chain\n",
        ")\n",
        "question = \"指標\"\n",
        "unique_docs = retriever_from_llm.invoke(question)\n",
        "unique_docs"
      ],
      "metadata": {
        "id": "VaAGPQwDFUp0",
        "colab": {
          "base_uri": "https://localhost:8080/"
        },
        "outputId": "a048d050-c808-4e40-94ea-0e9db8882488"
      },
      "execution_count": null,
      "outputs": [
        {
          "output_type": "stream",
          "name": "stderr",
          "text": [
            "INFO:langchain.retrievers.multi_query:Generated queries: ['1. 指標的定義和用途', '2. 常見的經濟指標有哪些', '3. 如何分析和解讀指標數據']\n"
          ]
        },
        {
          "output_type": "execute_result",
          "data": {
            "text/plain": [
              "[Document(id='64798b3f-81b2-4f7e-be39-e3635c6e791c', metadata={'author': 'A000000', 'creationDate': \"D:20240417093840+08'00'\", 'creator': 'Microsoft® Word 2019', 'file_path': '/content/drive/MyDrive/LineBot/FD.pdf', 'format': 'PDF 1.7', 'keywords': '', 'modDate': \"D:20240417093840+08'00'\", 'page': 41.0, 'producer': 'Microsoft® Word 2019', 'source': '/content/drive/MyDrive/LineBot/FD.pdf', 'subject': '', 'title': '「西醫基層與醫院之財務風險分擔監控指標」會議議程', 'total_pages': 42.0, 'trapped': ''}, page_content='42 \\n \\n治療指引 \\n參考指標 \\n分子定義 \\n分母定義 \\n操作型定義 \\n \\nABC 達標率 \\n \\n \\n \\n\\uf0acStark, C.S., Fradkin, J.E., \\nSaydah, S.H., Rust, K.F., \\nCowie, C.C. (2013).The \\nprevalence of meeting A1C, \\nblood pressure, and LDL goals \\namong people with diabetes, \\n1988-2010. Diabetes \\nCare,36(8),2271-9. doi: \\n10.2337/dc12-2258.  \\n\\uf0acAli, M.K., Bullard, K.M., \\nGregg, E.W., Del, R.C. (2014). \\nA cascade of care for diabetes \\nin the United States: \\nvisualizing the gaps. Ann \\nIntern Med, 161(10),681-9. \\ndoi: 10.7326/M14-0019. \\n(1)醣化血紅素(HbA1C) \\n達標率 \\n(1)分母中，當年度糖尿病人\\n最後一次檢測HbA1C<7%\\n人數 \\n4 項指標分母均為醫療群\\n內所有診所糖尿病人總數 \\nA.糖尿病病人至少每三個\\n月檢查一次HbA1c，且\\n當年度最後一次HbA1c\\n檢查值<7 者為控制良\\n好。 \\nB.糖尿病病人全年紀錄之\\n門診血壓次數至少每三\\n個月一次，其中有\\n1/2(含)以上之\\nBP<140/90 為控制良好。 \\nC.糖尿病病人全年檢驗之\\nLDL-C 次數至少每六個\\n月一次，其中有1/2(含)\\n以上之數值LDL-c<100 \\nmg/dl 為控制良好。 \\n(2)血壓(BP)達標率 \\n(2)分母中，糖尿病人全年紀\\n錄之門診血壓次數至少\\n每三個月一次，其中有\\n1/2(含)以上之\\nBP<140/40mmHg 人數 \\n \\n(3)低密度膽固醇(LDL \\ncholesterol) 達標率。 \\n(3)分母中，糖尿病人全年檢\\n驗之LDL-C 次數至少每六\\n個月一次，其中有\\n1/2(含)以上之\\nLDL<100mg/dl 人數 \\n \\n(4)ABC 三項指標全部達\\n標率 \\n(4)分母中，同時符合\\nHbA1C<7%及\\nBP<140/90mmHg 及\\nLDL<100mg/dl 之人數 \\n \\n註：本表為衛生福利部國民健康署提供。 \\n'),\n",
              " Document(id='09819f28-7960-45d4-94f1-219cef8c1821', metadata={'author': 'A000000', 'creationDate': \"D:20240417093840+08'00'\", 'creator': 'Microsoft® Word 2019', 'file_path': '/content/drive/MyDrive/LineBot/FD.pdf', 'format': 'PDF 1.7', 'keywords': '', 'modDate': \"D:20240417093840+08'00'\", 'page': 41.0, 'producer': 'Microsoft® Word 2019', 'source': '/content/drive/MyDrive/LineBot/FD.pdf', 'subject': '', 'title': '「西醫基層與醫院之財務風險分擔監控指標」會議議程', 'total_pages': 42.0, 'trapped': ''}, page_content='42 \\n \\n治療指引 \\n參考指標 \\n分子定義 \\n分母定義 \\n操作型定義 \\n \\nABC 達標率 \\n \\n \\n \\n\\uf0acStark, C.S., Fradkin, J.E., \\nSaydah, S.H., Rust, K.F., \\nCowie, C.C. (2013).The \\nprevalence of meeting A1C, \\nblood pressure, and LDL goals \\namong people with diabetes, \\n1988-2010. Diabetes \\nCare,36(8),2271-9. doi: \\n10.2337/dc12-2258.  \\n\\uf0acAli, M.K., Bullard, K.M., \\nGregg, E.W., Del, R.C. (2014). \\nA cascade of care for diabetes \\nin the United States: \\nvisualizing the gaps. Ann \\nIntern Med, 161(10),681-9. \\ndoi: 10.7326/M14-0019. \\n(1)醣化血紅素(HbA1C) \\n達標率 \\n(1)分母中，當年度糖尿病人\\n最後一次檢測HbA1C<7%\\n人數 \\n4 項指標分母均為醫療群\\n內所有診所糖尿病人總數 \\nA.糖尿病病人至少每三個\\n月檢查一次HbA1c，且\\n當年度最後一次HbA1c\\n檢查值<7 者為控制良\\n好。 \\nB.糖尿病病人全年紀錄之\\n門診血壓次數至少每三\\n個月一次，其中有\\n1/2(含)以上之\\nBP<140/90 為控制良好。 \\nC.糖尿病病人全年檢驗之\\nLDL-C 次數至少每六個\\n月一次，其中有1/2(含)\\n以上之數值LDL-c<100 \\nmg/dl 為控制良好。 \\n(2)血壓(BP)達標率 \\n(2)分母中，糖尿病人全年紀\\n錄之門診血壓次數至少\\n每三個月一次，其中有\\n1/2(含)以上之\\nBP<140/40mmHg 人數 \\n \\n(3)低密度膽固醇(LDL \\ncholesterol) 達標率。 \\n(3)分母中，糖尿病人全年檢\\n驗之LDL-C 次數至少每六\\n個月一次，其中有\\n1/2(含)以上之\\nLDL<100mg/dl 人數 \\n \\n(4)ABC 三項指標全部達\\n標率 \\n(4)分母中，同時符合\\nHbA1C<7%及\\nBP<140/90mmHg 及\\nLDL<100mg/dl 之人數 \\n \\n註：本表為衛生福利部國民健康署提供。 \\n'),\n",
              " Document(id='1d6d73ae-db2b-46f4-8524-ac3b7fcd154d', metadata={'author': 'A000000', 'creationDate': \"D:20240417093840+08'00'\", 'creator': 'Microsoft® Word 2019', 'file_path': '/content/drive/MyDrive/LineBot/FD.pdf', 'format': 'PDF 1.7', 'keywords': '', 'modDate': \"D:20240417093840+08'00'\", 'page': 41.0, 'producer': 'Microsoft® Word 2019', 'source': '/content/drive/MyDrive/LineBot/FD.pdf', 'subject': '', 'title': '「西醫基層與醫院之財務風險分擔監控指標」會議議程', 'total_pages': 42.0, 'trapped': ''}, page_content='42 \\n \\n治療指引 \\n參考指標 \\n分子定義 \\n分母定義 \\n操作型定義 \\n \\nABC 達標率 \\n \\n \\n \\n\\uf0acStark, C.S., Fradkin, J.E., \\nSaydah, S.H., Rust, K.F., \\nCowie, C.C. (2013).The \\nprevalence of meeting A1C, \\nblood pressure, and LDL goals \\namong people with diabetes, \\n1988-2010. Diabetes \\nCare,36(8),2271-9. doi: \\n10.2337/dc12-2258.  \\n\\uf0acAli, M.K., Bullard, K.M., \\nGregg, E.W., Del, R.C. (2014). \\nA cascade of care for diabetes \\nin the United States: \\nvisualizing the gaps. Ann \\nIntern Med, 161(10),681-9. \\ndoi: 10.7326/M14-0019. \\n(1)醣化血紅素(HbA1C) \\n達標率 \\n(1)分母中，當年度糖尿病人\\n最後一次檢測HbA1C<7%\\n人數 \\n4 項指標分母均為醫療群\\n內所有診所糖尿病人總數 \\nA.糖尿病病人至少每三個\\n月檢查一次HbA1c，且\\n當年度最後一次HbA1c\\n檢查值<7 者為控制良\\n好。 \\nB.糖尿病病人全年紀錄之\\n門診血壓次數至少每三\\n個月一次，其中有\\n1/2(含)以上之\\nBP<140/90 為控制良好。 \\nC.糖尿病病人全年檢驗之\\nLDL-C 次數至少每六個\\n月一次，其中有1/2(含)\\n以上之數值LDL-c<100 \\nmg/dl 為控制良好。 \\n(2)血壓(BP)達標率 \\n(2)分母中，糖尿病人全年紀\\n錄之門診血壓次數至少\\n每三個月一次，其中有\\n1/2(含)以上之\\nBP<140/40mmHg 人數 \\n \\n(3)低密度膽固醇(LDL \\ncholesterol) 達標率。 \\n(3)分母中，糖尿病人全年檢\\n驗之LDL-C 次數至少每六\\n個月一次，其中有\\n1/2(含)以上之\\nLDL<100mg/dl 人數 \\n \\n(4)ABC 三項指標全部達\\n標率 \\n(4)分母中，同時符合\\nHbA1C<7%及\\nBP<140/90mmHg 及\\nLDL<100mg/dl 之人數 \\n \\n註：本表為衛生福利部國民健康署提供。 \\n'),\n",
              " Document(id='3be393d1-8da0-46d8-a254-deeba85f1c6f', metadata={'author': 'A000000', 'creationDate': \"D:20240417093840+08'00'\", 'creator': 'Microsoft® Word 2019', 'file_path': '/content/drive/MyDrive/LineBot/FD.pdf', 'format': 'PDF 1.7', 'keywords': '', 'modDate': \"D:20240417093840+08'00'\", 'page': 41.0, 'producer': 'Microsoft® Word 2019', 'source': '/content/drive/MyDrive/LineBot/FD.pdf', 'subject': '', 'title': '「西醫基層與醫院之財務風險分擔監控指標」會議議程', 'total_pages': 42.0, 'trapped': ''}, page_content='42 \\n \\n治療指引 \\n參考指標 \\n分子定義 \\n分母定義 \\n操作型定義 \\n \\nABC 達標率 \\n \\n \\n \\n\\uf0acStark, C.S., Fradkin, J.E., \\nSaydah, S.H., Rust, K.F., \\nCowie, C.C. (2013).The \\nprevalence of meeting A1C, \\nblood pressure, and LDL goals \\namong people with diabetes, \\n1988-2010. Diabetes \\nCare,36(8),2271-9. doi: \\n10.2337/dc12-2258.  \\n\\uf0acAli, M.K., Bullard, K.M., \\nGregg, E.W., Del, R.C. (2014). \\nA cascade of care for diabetes \\nin the United States: \\nvisualizing the gaps. Ann \\nIntern Med, 161(10),681-9. \\ndoi: 10.7326/M14-0019. \\n(1)醣化血紅素(HbA1C) \\n達標率 \\n(1)分母中，當年度糖尿病人\\n最後一次檢測HbA1C<7%\\n人數 \\n4 項指標分母均為醫療群\\n內所有診所糖尿病人總數 \\nA.糖尿病病人至少每三個\\n月檢查一次HbA1c，且\\n當年度最後一次HbA1c\\n檢查值<7 者為控制良\\n好。 \\nB.糖尿病病人全年紀錄之\\n門診血壓次數至少每三\\n個月一次，其中有\\n1/2(含)以上之\\nBP<140/90 為控制良好。 \\nC.糖尿病病人全年檢驗之\\nLDL-C 次數至少每六個\\n月一次，其中有1/2(含)\\n以上之數值LDL-c<100 \\nmg/dl 為控制良好。 \\n(2)血壓(BP)達標率 \\n(2)分母中，糖尿病人全年紀\\n錄之門診血壓次數至少\\n每三個月一次，其中有\\n1/2(含)以上之\\nBP<140/40mmHg 人數 \\n \\n(3)低密度膽固醇(LDL \\ncholesterol) 達標率。 \\n(3)分母中，糖尿病人全年檢\\n驗之LDL-C 次數至少每六\\n個月一次，其中有\\n1/2(含)以上之\\nLDL<100mg/dl 人數 \\n \\n(4)ABC 三項指標全部達\\n標率 \\n(4)分母中，同時符合\\nHbA1C<7%及\\nBP<140/90mmHg 及\\nLDL<100mg/dl 之人數 \\n \\n註：本表為衛生福利部國民健康署提供。 \\n'),\n",
              " Document(id='109f4fa0-3442-4659-ae3c-343d9d17a557', metadata={'author': 'A000000', 'creationDate': \"D:20240417093840+08'00'\", 'creator': 'Microsoft® Word 2019', 'file_path': '/content/drive/MyDrive/LineBot/FD.pdf', 'format': 'PDF 1.7', 'keywords': '', 'modDate': \"D:20240417093840+08'00'\", 'page': 22.0, 'producer': 'Microsoft® Word 2019', 'source': '/content/drive/MyDrive/LineBot/FD.pdf', 'subject': '', 'title': '「西醫基層與醫院之財務風險分擔監控指標」會議議程', 'total_pages': 42.0, 'trapped': ''}, page_content='- 23 - \\n \\n3.當年較需照護族群55 百分位≦會員固定就診率＜當年較需\\n照護族群60 百分位，得3 分。 \\n4.計算公式說明： \\n分子：會員在社區醫療群內診所(含合作醫院)就醫次數 \\n分母：會員在所有西醫門診就醫次數 \\n(六)慢性病管理指標(15 分) \\n1.慢性病個案三高生活型態風險控制率 \\n(1) 非屬「家醫2.0」之醫療群適用。 \\n(2) 醫療群內200 名以上慢性病收案會員之監測指標檢驗結\\n果屬得以控制或改善，下列項目各得5 分。得以控制或改\\n善之定義為檢驗結果後測-前測<0，或維持以下正常值： \\n(3) 為避免個案登載資料錯誤，如有個案非介於下列合理範圍\\n者，收案診所須於VPN 登載原因，即可上傳： \\n \\n \\n(4) 血壓、HbA1c、LDL、得以控制之收案個案不得重複計分。 \\n監測指標 \\n正常值 \\n血壓 \\n(收縮壓、舒張壓) \\n100≦收縮壓≦150 mmHg 或50≦舒張壓≦\\n90mmHg。 \\nHbA1c \\n4%≦HbA1c≦7%或原為10%以上者改善\\n到4%≦HbA1c≦8%之間。 \\nLDL \\n30mg/d≦糖尿病人≦100mg/dl、 \\n30mg/dl≦非糖尿病人≦130mg/dl。 \\n監測指標 \\n登載合理範圍 \\n血壓 \\n(收縮壓、舒張壓) \\n收縮壓介於70 至300mmHg， \\n舒張壓介於40 至200 mmHg。 \\nHbA1c \\n介於4%至15%。 \\nLDL \\n介於30 mg/dl 至494 mg/dl。 \\n'),\n",
              " Document(id='3ee1c633-456d-488f-bbfa-d126b563812d', metadata={'author': 'A000000', 'creationDate': \"D:20240417093840+08'00'\", 'creator': 'Microsoft® Word 2019', 'file_path': '/content/drive/MyDrive/LineBot/FD.pdf', 'format': 'PDF 1.7', 'keywords': '', 'modDate': \"D:20240417093840+08'00'\", 'page': 22.0, 'producer': 'Microsoft® Word 2019', 'source': '/content/drive/MyDrive/LineBot/FD.pdf', 'subject': '', 'title': '「西醫基層與醫院之財務風險分擔監控指標」會議議程', 'total_pages': 42.0, 'trapped': ''}, page_content='- 23 - \\n \\n3.當年較需照護族群55 百分位≦會員固定就診率＜當年較需\\n照護族群60 百分位，得3 分。 \\n4.計算公式說明： \\n分子：會員在社區醫療群內診所(含合作醫院)就醫次數 \\n分母：會員在所有西醫門診就醫次數 \\n(六)慢性病管理指標(15 分) \\n1.慢性病個案三高生活型態風險控制率 \\n(1) 非屬「家醫2.0」之醫療群適用。 \\n(2) 醫療群內200 名以上慢性病收案會員之監測指標檢驗結\\n果屬得以控制或改善，下列項目各得5 分。得以控制或改\\n善之定義為檢驗結果後測-前測<0，或維持以下正常值： \\n(3) 為避免個案登載資料錯誤，如有個案非介於下列合理範圍\\n者，收案診所須於VPN 登載原因，即可上傳： \\n \\n \\n(4) 血壓、HbA1c、LDL、得以控制之收案個案不得重複計分。 \\n監測指標 \\n正常值 \\n血壓 \\n(收縮壓、舒張壓) \\n100≦收縮壓≦150 mmHg 或50≦舒張壓≦\\n90mmHg。 \\nHbA1c \\n4%≦HbA1c≦7%或原為10%以上者改善\\n到4%≦HbA1c≦8%之間。 \\nLDL \\n30mg/d≦糖尿病人≦100mg/dl、 \\n30mg/dl≦非糖尿病人≦130mg/dl。 \\n監測指標 \\n登載合理範圍 \\n血壓 \\n(收縮壓、舒張壓) \\n收縮壓介於70 至300mmHg， \\n舒張壓介於40 至200 mmHg。 \\nHbA1c \\n介於4%至15%。 \\nLDL \\n介於30 mg/dl 至494 mg/dl。 \\n'),\n",
              " Document(id='8cf20bde-6a6b-4abb-8728-13d2f3074a6c', metadata={'author': 'A000000', 'creationDate': \"D:20240417093840+08'00'\", 'creator': 'Microsoft® Word 2019', 'file_path': '/content/drive/MyDrive/LineBot/FD.pdf', 'format': 'PDF 1.7', 'keywords': '', 'modDate': \"D:20240417093840+08'00'\", 'page': 22.0, 'producer': 'Microsoft® Word 2019', 'source': '/content/drive/MyDrive/LineBot/FD.pdf', 'subject': '', 'title': '「西醫基層與醫院之財務風險分擔監控指標」會議議程', 'total_pages': 42.0, 'trapped': ''}, page_content='- 23 - \\n \\n3.當年較需照護族群55 百分位≦會員固定就診率＜當年較需\\n照護族群60 百分位，得3 分。 \\n4.計算公式說明： \\n分子：會員在社區醫療群內診所(含合作醫院)就醫次數 \\n分母：會員在所有西醫門診就醫次數 \\n(六)慢性病管理指標(15 分) \\n1.慢性病個案三高生活型態風險控制率 \\n(1) 非屬「家醫2.0」之醫療群適用。 \\n(2) 醫療群內200 名以上慢性病收案會員之監測指標檢驗結\\n果屬得以控制或改善，下列項目各得5 分。得以控制或改\\n善之定義為檢驗結果後測-前測<0，或維持以下正常值： \\n(3) 為避免個案登載資料錯誤，如有個案非介於下列合理範圍\\n者，收案診所須於VPN 登載原因，即可上傳： \\n \\n \\n(4) 血壓、HbA1c、LDL、得以控制之收案個案不得重複計分。 \\n監測指標 \\n正常值 \\n血壓 \\n(收縮壓、舒張壓) \\n100≦收縮壓≦150 mmHg 或50≦舒張壓≦\\n90mmHg。 \\nHbA1c \\n4%≦HbA1c≦7%或原為10%以上者改善\\n到4%≦HbA1c≦8%之間。 \\nLDL \\n30mg/d≦糖尿病人≦100mg/dl、 \\n30mg/dl≦非糖尿病人≦130mg/dl。 \\n監測指標 \\n登載合理範圍 \\n血壓 \\n(收縮壓、舒張壓) \\n收縮壓介於70 至300mmHg， \\n舒張壓介於40 至200 mmHg。 \\nHbA1c \\n介於4%至15%。 \\nLDL \\n介於30 mg/dl 至494 mg/dl。 \\n'),\n",
              " Document(id='1ba11739-248d-4912-8341-4d91a70cc563', metadata={'author': 'A000000', 'creationDate': \"D:20240417093840+08'00'\", 'creator': 'Microsoft® Word 2019', 'file_path': '/content/drive/MyDrive/LineBot/FD.pdf', 'format': 'PDF 1.7', 'keywords': '', 'modDate': \"D:20240417093840+08'00'\", 'page': 22.0, 'producer': 'Microsoft® Word 2019', 'source': '/content/drive/MyDrive/LineBot/FD.pdf', 'subject': '', 'title': '「西醫基層與醫院之財務風險分擔監控指標」會議議程', 'total_pages': 42.0, 'trapped': ''}, page_content='- 23 - \\n \\n3.當年較需照護族群55 百分位≦會員固定就診率＜當年較需\\n照護族群60 百分位，得3 分。 \\n4.計算公式說明： \\n分子：會員在社區醫療群內診所(含合作醫院)就醫次數 \\n分母：會員在所有西醫門診就醫次數 \\n(六)慢性病管理指標(15 分) \\n1.慢性病個案三高生活型態風險控制率 \\n(1) 非屬「家醫2.0」之醫療群適用。 \\n(2) 醫療群內200 名以上慢性病收案會員之監測指標檢驗結\\n果屬得以控制或改善，下列項目各得5 分。得以控制或改\\n善之定義為檢驗結果後測-前測<0，或維持以下正常值： \\n(3) 為避免個案登載資料錯誤，如有個案非介於下列合理範圍\\n者，收案診所須於VPN 登載原因，即可上傳： \\n \\n \\n(4) 血壓、HbA1c、LDL、得以控制之收案個案不得重複計分。 \\n監測指標 \\n正常值 \\n血壓 \\n(收縮壓、舒張壓) \\n100≦收縮壓≦150 mmHg 或50≦舒張壓≦\\n90mmHg。 \\nHbA1c \\n4%≦HbA1c≦7%或原為10%以上者改善\\n到4%≦HbA1c≦8%之間。 \\nLDL \\n30mg/d≦糖尿病人≦100mg/dl、 \\n30mg/dl≦非糖尿病人≦130mg/dl。 \\n監測指標 \\n登載合理範圍 \\n血壓 \\n(收縮壓、舒張壓) \\n收縮壓介於70 至300mmHg， \\n舒張壓介於40 至200 mmHg。 \\nHbA1c \\n介於4%至15%。 \\nLDL \\n介於30 mg/dl 至494 mg/dl。 \\n')]"
            ]
          },
          "metadata": {},
          "execution_count": 7
        }
      ]
    },
    {
      "cell_type": "code",
      "source": [
        "def qa(question: str, k: int = 1):\n",
        "    documents = vector_store.similarity_search(question, k=k)\n",
        "    prompt = ChatPromptTemplate.from_template(\n",
        "    \"\"\"\n",
        "    原始問題: {question}\n",
        "    取得的參考資料: {data}\n",
        "    \"你是專業客服人員,請根據上下文來回答問題,\"\n",
        "    \"你不知道答案就說你不知道, 不要試圖編造答案。\\n\"\n",
        "    請用繁體中文回答\n",
        "    \"\"\"\n",
        "    )\n",
        "    llm = ChatOpenAI(\n",
        "        api_key=OPENAI_API_KEY,\n",
        "        model_name=\"gpt-4o\"\n",
        "    )\n",
        "    chain = prompt | llm\n",
        "\n",
        "    result = chain.invoke({\"question\": question, \"data\": documents[0].page_content})\n",
        "    return str(result.content)"
      ],
      "metadata": {
        "id": "Wrgw_ToXl2B_"
      },
      "execution_count": null,
      "outputs": []
    },
    {
      "cell_type": "code",
      "source": [
        "qa(\"指標\")"
      ],
      "metadata": {
        "colab": {
          "base_uri": "https://localhost:8080/",
          "height": 35
        },
        "id": "KIvoxx0kl5c6",
        "outputId": "c2310dcb-3721-49a7-ac2e-6df12e471195"
      },
      "execution_count": null,
      "outputs": [
        {
          "output_type": "execute_result",
          "data": {
            "text/plain": [
              "'請問您有什麼具體問題需要我協助解答嗎？根據您提供的內容，這段文字似乎是在描述糖尿病患者的治療指引及相關達標率的定義。如果您有任何具體的問題或需要進一步的資訊，請隨時告訴我！'"
            ],
            "application/vnd.google.colaboratory.intrinsic+json": {
              "type": "string"
            }
          },
          "metadata": {},
          "execution_count": 9
        }
      ]
    },
    {
      "cell_type": "code",
      "source": [],
      "metadata": {
        "id": "KC3HwoEGmDeL"
      },
      "execution_count": null,
      "outputs": []
    }
  ]
}