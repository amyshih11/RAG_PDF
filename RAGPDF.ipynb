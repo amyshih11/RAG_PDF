{
  "nbformat": 4,
  "nbformat_minor": 0,
  "metadata": {
    "colab": {
      "provenance": []
    },
    "kernelspec": {
      "name": "python3",
      "display_name": "Python 3"
    },
    "language_info": {
      "name": "python"
    }
  },
  "cells": [
    {
      "cell_type": "code",
      "source": [
        "from google.colab import userdata\n",
        "OPENAI_API_KEY = userdata.get('OPENAI_API_KEY')\n",
        "PINECONE_API_KEY = userdata.get('PINECONE_API_KEY')"
      ],
      "metadata": {
        "id": "oBHqID4WMkrB"
      },
      "execution_count": 1,
      "outputs": []
    },
    {
      "cell_type": "markdown",
      "source": [],
      "metadata": {
        "id": "GomN5saIVY7e"
      }
    },
    {
      "cell_type": "code",
      "source": [
        "from google.colab import drive\n",
        "drive.mount('/content/drive')"
      ],
      "metadata": {
        "colab": {
          "base_uri": "https://localhost:8080/"
        },
        "id": "eL5vEqNDY3mQ",
        "outputId": "c8dc1f14-bdda-4764-ec62-ab2233574a81"
      },
      "execution_count": 2,
      "outputs": [
        {
          "output_type": "stream",
          "name": "stdout",
          "text": [
            "Drive already mounted at /content/drive; to attempt to forcibly remount, call drive.mount(\"/content/drive\", force_remount=True).\n"
          ]
        }
      ]
    },
    {
      "cell_type": "code",
      "source": [
        "!pip install PyMuPDF\n",
        "!pip install langchain_openai\n",
        "!pip install pinecone\n",
        "!pip install langchain_pinecone\n",
        "!pip install langchain_community"
      ],
      "metadata": {
        "id": "B1A0Bpa_TOgQ"
      },
      "execution_count": null,
      "outputs": []
    },
    {
      "cell_type": "code",
      "source": [
        "#讀取檔案\n",
        "from pprint import pprint\n",
        "from langchain_community.document_loaders import PyMuPDFLoader\n",
        "from langchain.text_splitter import RecursiveCharacterTextSplitter\n",
        "\n",
        "loader = PyMuPDFLoader(\"/content/drive/MyDrive/rag_pdf/FD.pdf\")\n",
        "documents = loader.load_and_split(\n",
        "    text_splitter=RecursiveCharacterTextSplitter(\n",
        "        chunk_size=300,\n",
        "        chunk_overlap=50\n",
        "    )\n",
        ")"
      ],
      "metadata": {
        "id": "6wG6W99jTChw"
      },
      "execution_count": 4,
      "outputs": []
    },
    {
      "cell_type": "code",
      "source": [
        "!pip install --force-reinstall -v openai==1.55.3"
      ],
      "metadata": {
        "id": "BovVB7S9Vaan"
      },
      "execution_count": null,
      "outputs": []
    },
    {
      "cell_type": "code",
      "source": [
        "#寫入向量資料庫\n",
        "from langchain_community.document_loaders import PyMuPDFLoader\n",
        "# from langchain_openai.embeddings import OpenAIEmbeddings\n",
        "from langchain_openai import OpenAIEmbeddings\n",
        "from langchain_pinecone import PineconeVectorStore\n",
        "from langchain_core.documents import Document\n",
        "from pinecone import Pinecone\n",
        "import pinecone\n",
        "embedding = OpenAIEmbeddings(\n",
        "    openai_api_key=OPENAI_API_KEY\n",
        ")\n",
        "\n",
        "vector_store = PineconeVectorStore(\n",
        "    index=Pinecone(api_key=PINECONE_API_KEY).Index(\"rag\"),\n",
        "    embedding=embedding\n",
        ")\n",
        "vector_store.add_documents(loader.load())"
      ],
      "metadata": {
        "id": "eM6A2gWaTHHe"
      },
      "execution_count": null,
      "outputs": []
    },
    {
      "cell_type": "code",
      "source": [
        "from langchain_core.prompts import ChatPromptTemplate\n",
        "from langchain_openai import ChatOpenAI\n",
        "from langchain.retrievers.multi_query import MultiQueryRetriever\n",
        "from langchain.memory import ConversationSummaryBufferMemory\n",
        "from langchain_core.output_parsers import BaseOutputParser\n",
        "from typing import List\n",
        "import logging\n",
        "from langchain_core.prompts import PromptTemplate\n",
        "\n",
        "# 定義 LineListOutputParser 來解析多行文本\n",
        "class LineListOutputParser(BaseOutputParser[List[str]]):\n",
        "    \"\"\"Output parser for a list of lines.\"\"\"\n",
        "\n",
        "    def parse(self, text: str) -> List[str]:\n",
        "        lines = text.strip().split(\"\\n\")\n",
        "        return list(filter(None, lines))  # Remove empty lines\n",
        "\n",
        "# 設置日誌級別，顯示生成的查詢\n",
        "logging.basicConfig()\n",
        "logging.getLogger(\"langchain.retrievers.multi_query\").setLevel(logging.INFO)\n",
        "# 使用 ChatOpenAI 作為 LLM 來生成查詢\n",
        "llm = ChatOpenAI(\n",
        "    api_key=OPENAI_API_KEY,\n",
        "    model_name=\"gpt-4o\"\n",
        ")\n",
        "\n",
        "# 生成自定義 PromptTemplate\n",
        "CUSTOM_QUERY_PROMPT = PromptTemplate(\n",
        "    input_variables=[\"question\"],\n",
        "    template=\"\"\"你是一個 AI 語言模型助手。你的任務是根據用戶輸入的問題生成三個不同版本的查詢，以繁體中文進行檢索。請將這些查詢分行顯示。\n",
        "    原始問題: {question}\"\"\"\n",
        ")\n",
        "# 建立 MultiQueryRetriever，並將 Pinecone 索引作為檢索器\n",
        "llm_chain = CUSTOM_QUERY_PROMPT | llm | LineListOutputParser()\n",
        "retriever_from_llm = MultiQueryRetriever(\n",
        "    retriever=vector_store.as_retriever(),\n",
        "    llm_chain=llm_chain\n",
        ")\n",
        "question = \"指標\"\n",
        "unique_docs = retriever_from_llm.invoke(question)\n",
        "unique_docs"
      ],
      "metadata": {
        "id": "VaAGPQwDFUp0",
        "colab": {
          "base_uri": "https://localhost:8080/"
        },
        "outputId": "7dfcf853-9f03-490c-aa53-ba22b489fb61"
      },
      "execution_count": 7,
      "outputs": [
        {
          "output_type": "stream",
          "name": "stderr",
          "text": [
            "INFO:langchain.retrievers.multi_query:Generated queries: ['1. 什麼是指標的定義和用途？', '2. 常見的指標類型有哪些？', '3. 如何有效地使用指標進行數據分析？']\n"
          ]
        },
        {
          "output_type": "execute_result",
          "data": {
            "text/plain": [
              "[Document(id='64798b3f-81b2-4f7e-be39-e3635c6e791c', metadata={'author': 'A000000', 'creationDate': \"D:20240417093840+08'00'\", 'creator': 'Microsoft® Word 2019', 'file_path': '/content/drive/MyDrive/LineBot/FD.pdf', 'format': 'PDF 1.7', 'keywords': '', 'modDate': \"D:20240417093840+08'00'\", 'page': 41.0, 'producer': 'Microsoft® Word 2019', 'source': '/content/drive/MyDrive/LineBot/FD.pdf', 'subject': '', 'title': '「西醫基層與醫院之財務風險分擔監控指標」會議議程', 'total_pages': 42.0, 'trapped': ''}, page_content='42 \\n \\n治療指引 \\n參考指標 \\n分子定義 \\n分母定義 \\n操作型定義 \\n \\nABC 達標率 \\n \\n \\n \\n\\uf0acStark, C.S., Fradkin, J.E., \\nSaydah, S.H., Rust, K.F., \\nCowie, C.C. (2013).The \\nprevalence of meeting A1C, \\nblood pressure, and LDL goals \\namong people with diabetes, \\n1988-2010. Diabetes \\nCare,36(8),2271-9. doi: \\n10.2337/dc12-2258.  \\n\\uf0acAli, M.K., Bullard, K.M., \\nGregg, E.W., Del, R.C. (2014). \\nA cascade of care for diabetes \\nin the United States: \\nvisualizing the gaps. Ann \\nIntern Med, 161(10),681-9. \\ndoi: 10.7326/M14-0019. \\n(1)醣化血紅素(HbA1C) \\n達標率 \\n(1)分母中，當年度糖尿病人\\n最後一次檢測HbA1C<7%\\n人數 \\n4 項指標分母均為醫療群\\n內所有診所糖尿病人總數 \\nA.糖尿病病人至少每三個\\n月檢查一次HbA1c，且\\n當年度最後一次HbA1c\\n檢查值<7 者為控制良\\n好。 \\nB.糖尿病病人全年紀錄之\\n門診血壓次數至少每三\\n個月一次，其中有\\n1/2(含)以上之\\nBP<140/90 為控制良好。 \\nC.糖尿病病人全年檢驗之\\nLDL-C 次數至少每六個\\n月一次，其中有1/2(含)\\n以上之數值LDL-c<100 \\nmg/dl 為控制良好。 \\n(2)血壓(BP)達標率 \\n(2)分母中，糖尿病人全年紀\\n錄之門診血壓次數至少\\n每三個月一次，其中有\\n1/2(含)以上之\\nBP<140/40mmHg 人數 \\n \\n(3)低密度膽固醇(LDL \\ncholesterol) 達標率。 \\n(3)分母中，糖尿病人全年檢\\n驗之LDL-C 次數至少每六\\n個月一次，其中有\\n1/2(含)以上之\\nLDL<100mg/dl 人數 \\n \\n(4)ABC 三項指標全部達\\n標率 \\n(4)分母中，同時符合\\nHbA1C<7%及\\nBP<140/90mmHg 及\\nLDL<100mg/dl 之人數 \\n \\n註：本表為衛生福利部國民健康署提供。 \\n'),\n",
              " Document(id='f2f395cd-314f-48bd-bdbd-b4a9617c3b41', metadata={'author': 'A000000', 'creationDate': \"D:20240417093840+08'00'\", 'creator': 'Microsoft® Word 2019', 'file_path': '/content/drive/MyDrive/rag_pdf/FD.pdf', 'format': 'PDF 1.7', 'keywords': '', 'modDate': \"D:20240417093840+08'00'\", 'page': 41.0, 'producer': 'Microsoft® Word 2019', 'source': '/content/drive/MyDrive/rag_pdf/FD.pdf', 'subject': '', 'title': '「西醫基層與醫院之財務風險分擔監控指標」會議議程', 'total_pages': 42.0, 'trapped': ''}, page_content='42 \\n \\n治療指引 \\n參考指標 \\n分子定義 \\n分母定義 \\n操作型定義 \\n \\nABC 達標率 \\n \\n \\n \\n\\uf0acStark, C.S., Fradkin, J.E., \\nSaydah, S.H., Rust, K.F., \\nCowie, C.C. (2013).The \\nprevalence of meeting A1C, \\nblood pressure, and LDL goals \\namong people with diabetes, \\n1988-2010. Diabetes \\nCare,36(8),2271-9. doi: \\n10.2337/dc12-2258.  \\n\\uf0acAli, M.K., Bullard, K.M., \\nGregg, E.W., Del, R.C. (2014). \\nA cascade of care for diabetes \\nin the United States: \\nvisualizing the gaps. Ann \\nIntern Med, 161(10),681-9. \\ndoi: 10.7326/M14-0019. \\n(1)醣化血紅素(HbA1C) \\n達標率 \\n(1)分母中，當年度糖尿病人\\n最後一次檢測HbA1C<7%\\n人數 \\n4 項指標分母均為醫療群\\n內所有診所糖尿病人總數 \\nA.糖尿病病人至少每三個\\n月檢查一次HbA1c，且\\n當年度最後一次HbA1c\\n檢查值<7 者為控制良\\n好。 \\nB.糖尿病病人全年紀錄之\\n門診血壓次數至少每三\\n個月一次，其中有\\n1/2(含)以上之\\nBP<140/90 為控制良好。 \\nC.糖尿病病人全年檢驗之\\nLDL-C 次數至少每六個\\n月一次，其中有1/2(含)\\n以上之數值LDL-c<100 \\nmg/dl 為控制良好。 \\n(2)血壓(BP)達標率 \\n(2)分母中，糖尿病人全年紀\\n錄之門診血壓次數至少\\n每三個月一次，其中有\\n1/2(含)以上之\\nBP<140/40mmHg 人數 \\n \\n(3)低密度膽固醇(LDL \\ncholesterol) 達標率。 \\n(3)分母中，糖尿病人全年檢\\n驗之LDL-C 次數至少每六\\n個月一次，其中有\\n1/2(含)以上之\\nLDL<100mg/dl 人數 \\n \\n(4)ABC 三項指標全部達\\n標率 \\n(4)分母中，同時符合\\nHbA1C<7%及\\nBP<140/90mmHg 及\\nLDL<100mg/dl 之人數 \\n \\n註：本表為衛生福利部國民健康署提供。 \\n'),\n",
              " Document(id='09819f28-7960-45d4-94f1-219cef8c1821', metadata={'author': 'A000000', 'creationDate': \"D:20240417093840+08'00'\", 'creator': 'Microsoft® Word 2019', 'file_path': '/content/drive/MyDrive/LineBot/FD.pdf', 'format': 'PDF 1.7', 'keywords': '', 'modDate': \"D:20240417093840+08'00'\", 'page': 41.0, 'producer': 'Microsoft® Word 2019', 'source': '/content/drive/MyDrive/LineBot/FD.pdf', 'subject': '', 'title': '「西醫基層與醫院之財務風險分擔監控指標」會議議程', 'total_pages': 42.0, 'trapped': ''}, page_content='42 \\n \\n治療指引 \\n參考指標 \\n分子定義 \\n分母定義 \\n操作型定義 \\n \\nABC 達標率 \\n \\n \\n \\n\\uf0acStark, C.S., Fradkin, J.E., \\nSaydah, S.H., Rust, K.F., \\nCowie, C.C. (2013).The \\nprevalence of meeting A1C, \\nblood pressure, and LDL goals \\namong people with diabetes, \\n1988-2010. Diabetes \\nCare,36(8),2271-9. doi: \\n10.2337/dc12-2258.  \\n\\uf0acAli, M.K., Bullard, K.M., \\nGregg, E.W., Del, R.C. (2014). \\nA cascade of care for diabetes \\nin the United States: \\nvisualizing the gaps. Ann \\nIntern Med, 161(10),681-9. \\ndoi: 10.7326/M14-0019. \\n(1)醣化血紅素(HbA1C) \\n達標率 \\n(1)分母中，當年度糖尿病人\\n最後一次檢測HbA1C<7%\\n人數 \\n4 項指標分母均為醫療群\\n內所有診所糖尿病人總數 \\nA.糖尿病病人至少每三個\\n月檢查一次HbA1c，且\\n當年度最後一次HbA1c\\n檢查值<7 者為控制良\\n好。 \\nB.糖尿病病人全年紀錄之\\n門診血壓次數至少每三\\n個月一次，其中有\\n1/2(含)以上之\\nBP<140/90 為控制良好。 \\nC.糖尿病病人全年檢驗之\\nLDL-C 次數至少每六個\\n月一次，其中有1/2(含)\\n以上之數值LDL-c<100 \\nmg/dl 為控制良好。 \\n(2)血壓(BP)達標率 \\n(2)分母中，糖尿病人全年紀\\n錄之門診血壓次數至少\\n每三個月一次，其中有\\n1/2(含)以上之\\nBP<140/40mmHg 人數 \\n \\n(3)低密度膽固醇(LDL \\ncholesterol) 達標率。 \\n(3)分母中，糖尿病人全年檢\\n驗之LDL-C 次數至少每六\\n個月一次，其中有\\n1/2(含)以上之\\nLDL<100mg/dl 人數 \\n \\n(4)ABC 三項指標全部達\\n標率 \\n(4)分母中，同時符合\\nHbA1C<7%及\\nBP<140/90mmHg 及\\nLDL<100mg/dl 之人數 \\n \\n註：本表為衛生福利部國民健康署提供。 \\n'),\n",
              " Document(id='1d6d73ae-db2b-46f4-8524-ac3b7fcd154d', metadata={'author': 'A000000', 'creationDate': \"D:20240417093840+08'00'\", 'creator': 'Microsoft® Word 2019', 'file_path': '/content/drive/MyDrive/LineBot/FD.pdf', 'format': 'PDF 1.7', 'keywords': '', 'modDate': \"D:20240417093840+08'00'\", 'page': 41.0, 'producer': 'Microsoft® Word 2019', 'source': '/content/drive/MyDrive/LineBot/FD.pdf', 'subject': '', 'title': '「西醫基層與醫院之財務風險分擔監控指標」會議議程', 'total_pages': 42.0, 'trapped': ''}, page_content='42 \\n \\n治療指引 \\n參考指標 \\n分子定義 \\n分母定義 \\n操作型定義 \\n \\nABC 達標率 \\n \\n \\n \\n\\uf0acStark, C.S., Fradkin, J.E., \\nSaydah, S.H., Rust, K.F., \\nCowie, C.C. (2013).The \\nprevalence of meeting A1C, \\nblood pressure, and LDL goals \\namong people with diabetes, \\n1988-2010. Diabetes \\nCare,36(8),2271-9. doi: \\n10.2337/dc12-2258.  \\n\\uf0acAli, M.K., Bullard, K.M., \\nGregg, E.W., Del, R.C. (2014). \\nA cascade of care for diabetes \\nin the United States: \\nvisualizing the gaps. Ann \\nIntern Med, 161(10),681-9. \\ndoi: 10.7326/M14-0019. \\n(1)醣化血紅素(HbA1C) \\n達標率 \\n(1)分母中，當年度糖尿病人\\n最後一次檢測HbA1C<7%\\n人數 \\n4 項指標分母均為醫療群\\n內所有診所糖尿病人總數 \\nA.糖尿病病人至少每三個\\n月檢查一次HbA1c，且\\n當年度最後一次HbA1c\\n檢查值<7 者為控制良\\n好。 \\nB.糖尿病病人全年紀錄之\\n門診血壓次數至少每三\\n個月一次，其中有\\n1/2(含)以上之\\nBP<140/90 為控制良好。 \\nC.糖尿病病人全年檢驗之\\nLDL-C 次數至少每六個\\n月一次，其中有1/2(含)\\n以上之數值LDL-c<100 \\nmg/dl 為控制良好。 \\n(2)血壓(BP)達標率 \\n(2)分母中，糖尿病人全年紀\\n錄之門診血壓次數至少\\n每三個月一次，其中有\\n1/2(含)以上之\\nBP<140/40mmHg 人數 \\n \\n(3)低密度膽固醇(LDL \\ncholesterol) 達標率。 \\n(3)分母中，糖尿病人全年檢\\n驗之LDL-C 次數至少每六\\n個月一次，其中有\\n1/2(含)以上之\\nLDL<100mg/dl 人數 \\n \\n(4)ABC 三項指標全部達\\n標率 \\n(4)分母中，同時符合\\nHbA1C<7%及\\nBP<140/90mmHg 及\\nLDL<100mg/dl 之人數 \\n \\n註：本表為衛生福利部國民健康署提供。 \\n'),\n",
              " Document(id='cb7d639e-4dc4-41f2-967f-15e06e1d2620', metadata={'author': 'A000000', 'creationDate': \"D:20240417093840+08'00'\", 'creator': 'Microsoft® Word 2019', 'file_path': '/content/drive/MyDrive/LineBot/FD.pdf', 'format': 'PDF 1.7', 'keywords': '', 'modDate': \"D:20240417093840+08'00'\", 'page': 41.0, 'producer': 'Microsoft® Word 2019', 'source': '/content/drive/MyDrive/LineBot/FD.pdf', 'subject': '', 'title': '「西醫基層與醫院之財務風險分擔監控指標」會議議程', 'total_pages': 42.0, 'trapped': ''}, page_content='42 \\n \\n治療指引 \\n參考指標 \\n分子定義 \\n分母定義 \\n操作型定義 \\n \\nABC 達標率 \\n \\n \\n \\n\\uf0acStark, C.S., Fradkin, J.E., \\nSaydah, S.H., Rust, K.F., \\nCowie, C.C. (2013).The \\nprevalence of meeting A1C, \\nblood pressure, and LDL goals \\namong people with diabetes, \\n1988-2010. Diabetes \\nCare,36(8),2271-9. doi: \\n10.2337/dc12-2258.  \\n\\uf0acAli, M.K., Bullard, K.M., \\nGregg, E.W., Del, R.C. (2014). \\nA cascade of care for diabetes \\nin the United States: \\nvisualizing the gaps. Ann \\nIntern Med, 161(10),681-9. \\ndoi: 10.7326/M14-0019. \\n(1)醣化血紅素(HbA1C) \\n達標率 \\n(1)分母中，當年度糖尿病人\\n最後一次檢測HbA1C<7%\\n人數 \\n4 項指標分母均為醫療群\\n內所有診所糖尿病人總數 \\nA.糖尿病病人至少每三個\\n月檢查一次HbA1c，且\\n當年度最後一次HbA1c\\n檢查值<7 者為控制良\\n好。 \\nB.糖尿病病人全年紀錄之\\n門診血壓次數至少每三\\n個月一次，其中有\\n1/2(含)以上之\\nBP<140/90 為控制良好。 \\nC.糖尿病病人全年檢驗之\\nLDL-C 次數至少每六個\\n月一次，其中有1/2(含)\\n以上之數值LDL-c<100 \\nmg/dl 為控制良好。 \\n(2)血壓(BP)達標率 \\n(2)分母中，糖尿病人全年紀\\n錄之門診血壓次數至少\\n每三個月一次，其中有\\n1/2(含)以上之\\nBP<140/40mmHg 人數 \\n \\n(3)低密度膽固醇(LDL \\ncholesterol) 達標率。 \\n(3)分母中，糖尿病人全年檢\\n驗之LDL-C 次數至少每六\\n個月一次，其中有\\n1/2(含)以上之\\nLDL<100mg/dl 人數 \\n \\n(4)ABC 三項指標全部達\\n標率 \\n(4)分母中，同時符合\\nHbA1C<7%及\\nBP<140/90mmHg 及\\nLDL<100mg/dl 之人數 \\n \\n註：本表為衛生福利部國民健康署提供。 \\n'),\n",
              " Document(id='e2130093-2daf-4c74-996e-7ebca1307209', metadata={'author': 'A000000', 'creationDate': \"D:20240417093840+08'00'\", 'creator': 'Microsoft® Word 2019', 'file_path': '/content/drive/MyDrive/LineBot/FD.pdf', 'format': 'PDF 1.7', 'keywords': '', 'modDate': \"D:20240417093840+08'00'\", 'page': 32.0, 'producer': 'Microsoft® Word 2019', 'source': '/content/drive/MyDrive/LineBot/FD.pdf', 'subject': '', 'title': '「西醫基層與醫院之財務風險分擔監控指標」會議議程', 'total_pages': 42.0, 'trapped': ''}, page_content='- 33 - \\n \\n參與各項活動次數之每月統計表 \\n為瞭解社區醫療群參與各項活動之情況，作為未來社區醫療品質提升與家庭醫師制度改進之建議，請依照表中所列\\n項目，簡單記錄執行情形，若能提供相關附件尤佳，謝謝！ \\n填表單位：                  \\n項目 \\n1 月 \\n2 月 \\n3 月 \\n4 月 \\n5 月 \\n6 月 \\n7 月 \\n8 月 \\n9 月 \\n10 月 11 月 12 月 總計 \\n24 小時諮詢專線 \\n(諮詢件數) \\n \\n \\n \\n \\n \\n \\n \\n \\n \\n \\n \\n \\n \\n主動電訪(Call out) \\n(電訪人數) \\n \\n \\n \\n \\n \\n \\n \\n \\n \\n \\n \\n \\n \\n個案研討 \\n(參與次數) \\n \\n \\n \\n \\n \\n \\n \\n \\n \\n \\n \\n \\n \\n共同照護門診 \\n(診次) \\n \\n \\n \\n \\n \\n \\n \\n \\n \\n \\n \\n \\n \\n社區衛教宣導 \\n(辦理場數) \\n \\n \\n \\n \\n \\n \\n \\n \\n \\n \\n \\n \\n \\n病房巡診 \\n(巡診次數) \\n \\n \\n \\n \\n \\n \\n \\n \\n \\n \\n \\n \\n \\n \\n表一 \\n'),\n",
              " Document(id='d08cd612-8c57-4230-9ef9-57810a2d5b62', metadata={'author': 'A000000', 'creationDate': \"D:20240417093840+08'00'\", 'creator': 'Microsoft® Word 2019', 'file_path': '/content/drive/MyDrive/LineBot/FD.pdf', 'format': 'PDF 1.7', 'keywords': '', 'modDate': \"D:20240417093840+08'00'\", 'page': 32.0, 'producer': 'Microsoft® Word 2019', 'source': '/content/drive/MyDrive/LineBot/FD.pdf', 'subject': '', 'title': '「西醫基層與醫院之財務風險分擔監控指標」會議議程', 'total_pages': 42.0, 'trapped': ''}, page_content='- 33 - \\n \\n參與各項活動次數之每月統計表 \\n為瞭解社區醫療群參與各項活動之情況，作為未來社區醫療品質提升與家庭醫師制度改進之建議，請依照表中所列\\n項目，簡單記錄執行情形，若能提供相關附件尤佳，謝謝！ \\n填表單位：                  \\n項目 \\n1 月 \\n2 月 \\n3 月 \\n4 月 \\n5 月 \\n6 月 \\n7 月 \\n8 月 \\n9 月 \\n10 月 11 月 12 月 總計 \\n24 小時諮詢專線 \\n(諮詢件數) \\n \\n \\n \\n \\n \\n \\n \\n \\n \\n \\n \\n \\n \\n主動電訪(Call out) \\n(電訪人數) \\n \\n \\n \\n \\n \\n \\n \\n \\n \\n \\n \\n \\n \\n個案研討 \\n(參與次數) \\n \\n \\n \\n \\n \\n \\n \\n \\n \\n \\n \\n \\n \\n共同照護門診 \\n(診次) \\n \\n \\n \\n \\n \\n \\n \\n \\n \\n \\n \\n \\n \\n社區衛教宣導 \\n(辦理場數) \\n \\n \\n \\n \\n \\n \\n \\n \\n \\n \\n \\n \\n \\n病房巡診 \\n(巡診次數) \\n \\n \\n \\n \\n \\n \\n \\n \\n \\n \\n \\n \\n \\n \\n表一 \\n'),\n",
              " Document(id='614f45fe-5555-4277-ad16-f56794322cd9', metadata={'author': 'A000000', 'creationDate': \"D:20240417093840+08'00'\", 'creator': 'Microsoft® Word 2019', 'file_path': '/content/drive/MyDrive/LineBot/FD.pdf', 'format': 'PDF 1.7', 'keywords': '', 'modDate': \"D:20240417093840+08'00'\", 'page': 32.0, 'producer': 'Microsoft® Word 2019', 'source': '/content/drive/MyDrive/LineBot/FD.pdf', 'subject': '', 'title': '「西醫基層與醫院之財務風險分擔監控指標」會議議程', 'total_pages': 42.0, 'trapped': ''}, page_content='- 33 - \\n \\n參與各項活動次數之每月統計表 \\n為瞭解社區醫療群參與各項活動之情況，作為未來社區醫療品質提升與家庭醫師制度改進之建議，請依照表中所列\\n項目，簡單記錄執行情形，若能提供相關附件尤佳，謝謝！ \\n填表單位：                  \\n項目 \\n1 月 \\n2 月 \\n3 月 \\n4 月 \\n5 月 \\n6 月 \\n7 月 \\n8 月 \\n9 月 \\n10 月 11 月 12 月 總計 \\n24 小時諮詢專線 \\n(諮詢件數) \\n \\n \\n \\n \\n \\n \\n \\n \\n \\n \\n \\n \\n \\n主動電訪(Call out) \\n(電訪人數) \\n \\n \\n \\n \\n \\n \\n \\n \\n \\n \\n \\n \\n \\n個案研討 \\n(參與次數) \\n \\n \\n \\n \\n \\n \\n \\n \\n \\n \\n \\n \\n \\n共同照護門診 \\n(診次) \\n \\n \\n \\n \\n \\n \\n \\n \\n \\n \\n \\n \\n \\n社區衛教宣導 \\n(辦理場數) \\n \\n \\n \\n \\n \\n \\n \\n \\n \\n \\n \\n \\n \\n病房巡診 \\n(巡診次數) \\n \\n \\n \\n \\n \\n \\n \\n \\n \\n \\n \\n \\n \\n \\n表一 \\n'),\n",
              " Document(id='85a069f5-c0cc-46b6-89ac-56d0d86c88d0', metadata={'author': 'A000000', 'creationDate': \"D:20240417093840+08'00'\", 'creator': 'Microsoft® Word 2019', 'file_path': '/content/drive/MyDrive/LineBot/FD.pdf', 'format': 'PDF 1.7', 'keywords': '', 'modDate': \"D:20240417093840+08'00'\", 'page': 32.0, 'producer': 'Microsoft® Word 2019', 'source': '/content/drive/MyDrive/LineBot/FD.pdf', 'subject': '', 'title': '「西醫基層與醫院之財務風險分擔監控指標」會議議程', 'total_pages': 42.0, 'trapped': ''}, page_content='- 33 - \\n \\n參與各項活動次數之每月統計表 \\n為瞭解社區醫療群參與各項活動之情況，作為未來社區醫療品質提升與家庭醫師制度改進之建議，請依照表中所列\\n項目，簡單記錄執行情形，若能提供相關附件尤佳，謝謝！ \\n填表單位：                  \\n項目 \\n1 月 \\n2 月 \\n3 月 \\n4 月 \\n5 月 \\n6 月 \\n7 月 \\n8 月 \\n9 月 \\n10 月 11 月 12 月 總計 \\n24 小時諮詢專線 \\n(諮詢件數) \\n \\n \\n \\n \\n \\n \\n \\n \\n \\n \\n \\n \\n \\n主動電訪(Call out) \\n(電訪人數) \\n \\n \\n \\n \\n \\n \\n \\n \\n \\n \\n \\n \\n \\n個案研討 \\n(參與次數) \\n \\n \\n \\n \\n \\n \\n \\n \\n \\n \\n \\n \\n \\n共同照護門診 \\n(診次) \\n \\n \\n \\n \\n \\n \\n \\n \\n \\n \\n \\n \\n \\n社區衛教宣導 \\n(辦理場數) \\n \\n \\n \\n \\n \\n \\n \\n \\n \\n \\n \\n \\n \\n病房巡診 \\n(巡診次數) \\n \\n \\n \\n \\n \\n \\n \\n \\n \\n \\n \\n \\n \\n \\n表一 \\n')]"
            ]
          },
          "metadata": {},
          "execution_count": 7
        }
      ]
    },
    {
      "cell_type": "code",
      "source": [
        "def qa(question: str, k: int = 1):\n",
        "    documents = vector_store.similarity_search(question, k=k)\n",
        "    prompt = ChatPromptTemplate.from_template(\n",
        "    \"\"\"\n",
        "    原始問題: {question}\n",
        "    取得的參考資料: {data}\n",
        "    \"你是專業客服人員,請根據上下文來回答問題,\"\n",
        "    \"你不知道答案就說你不知道, 不要試圖編造答案。\\n\"\n",
        "    請用繁體中文回答\n",
        "    \"\"\"\n",
        "    )\n",
        "    llm = ChatOpenAI(\n",
        "        api_key=OPENAI_API_KEY,\n",
        "        model_name=\"gpt-4o\"\n",
        "    )\n",
        "    chain = prompt | llm\n",
        "\n",
        "    result = chain.invoke({\"question\": question, \"data\": documents[0].page_content})\n",
        "    return str(result.content)"
      ],
      "metadata": {
        "id": "Wrgw_ToXl2B_"
      },
      "execution_count": 8,
      "outputs": []
    },
    {
      "cell_type": "code",
      "source": [
        "qa(\"糖尿病指標\")"
      ],
      "metadata": {
        "colab": {
          "base_uri": "https://localhost:8080/",
          "height": 140
        },
        "id": "KIvoxx0kl5c6",
        "outputId": "d6d505bc-0500-4f95-91ff-7f449dacaf54"
      },
      "execution_count": 9,
      "outputs": [
        {
          "output_type": "execute_result",
          "data": {
            "text/plain": [
              "'根據提供的資料，糖尿病指標的治療指引包括以下幾個達標率的參考指標：\\n\\n1. **醣化血紅素 (HbA1C) 達標率**：糖尿病病人在當年度最後一次檢測中，HbA1C<7%的人數。糖尿病病人至少每三個月檢查一次HbA1C，且當年度最後一次HbA1C檢查值<7%者被視為控制良好。\\n\\n2. **血壓 (BP) 達標率**：糖尿病病人在全年紀錄中的門診血壓次數至少每三個月一次，其中有1/2(含)以上的BP<140/90 mmHg者被視為控制良好。\\n\\n3. **低密度膽固醇 (LDL cholesterol) 達標率**：糖尿病病人在全年檢驗中的LDL-C次數至少每六個月一次，其中有1/2(含)以上的LDL<100 mg/dl者被視為控制良好。\\n\\n4. **ABC 三項指標全部達標率**：同時符合HbA1C<7%、BP<140/90 mmHg及LDL<100 mg/dl的人數。\\n\\n這些指標是用來衡量糖尿病患者的健康管理效果，確保患者的血糖、血壓和膽固醇水平都處於良好控制的狀態。\\n\\n如果有其他問題或需要更詳細的解釋，請告訴我。'"
            ],
            "application/vnd.google.colaboratory.intrinsic+json": {
              "type": "string"
            }
          },
          "metadata": {},
          "execution_count": 9
        }
      ]
    },
    {
      "cell_type": "code",
      "source": [],
      "metadata": {
        "id": "KC3HwoEGmDeL"
      },
      "execution_count": null,
      "outputs": []
    }
  ]
}